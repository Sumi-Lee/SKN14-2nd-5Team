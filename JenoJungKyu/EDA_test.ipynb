{
 "cells": [
  {
   "cell_type": "code",
   "id": "initial_id",
   "metadata": {
    "collapsed": true,
    "ExecuteTime": {
     "end_time": "2025-06-02T00:18:38.758259Z",
     "start_time": "2025-06-02T00:18:38.755033Z"
    }
   },
   "source": [
    "import pandas as pd\n",
    "import numpy as np\n",
    "import matplotlib.pyplot as plt\n",
    "import seaborn as sns\n"
   ],
   "outputs": [],
   "execution_count": 1
  },
  {
   "metadata": {
    "ExecuteTime": {
     "end_time": "2025-06-02T00:18:41.462764Z",
     "start_time": "2025-06-02T00:18:41.458272Z"
    }
   },
   "cell_type": "code",
   "source": [
    "# Windows용 한글 폰트 지정\n",
    "plt.rcParams['font.family'] = 'Malgun Gothic'\n",
    "\n",
    "# 마이너스 기호 정상 표시 (음수 깨짐 방지)\n",
    "\n",
    "plt.rcParams['axes.unicode_minus'] = False\n"
   ],
   "id": "235c621fcddbe91b",
   "outputs": [],
   "execution_count": 2
  },
  {
   "metadata": {
    "ExecuteTime": {
     "end_time": "2025-06-02T00:18:43.583001Z",
     "start_time": "2025-06-02T00:18:41.908630Z"
    }
   },
   "cell_type": "code",
   "source": [
    "customers_df = pd.read_csv('data/olist_customers_dataset.csv')\n",
    "sellers_df = pd.read_csv('data/olist_sellers_dataset.csv')\n",
    "orders_df = pd.read_csv('data/olist_orders_dataset.csv')\n",
    "products_df = pd.read_csv('data/olist_products_dataset.csv')\n",
    "geolocation_df = pd.read_csv('data/olist_geolocation_dataset.csv')\n",
    "order_items_df = pd.read_csv('data/olist_order_items_dataset.csv')\n",
    "order_reviews_df = pd.read_csv('data/olist_order_reviews_dataset.csv')\n",
    "categories_df = pd.read_csv('data/product_category_name_translation.csv')"
   ],
   "id": "d030c7eb980bc6bd",
   "outputs": [],
   "execution_count": 3
  },
  {
   "metadata": {
    "ExecuteTime": {
     "end_time": "2025-06-02T00:18:57.512281Z",
     "start_time": "2025-06-02T00:18:57.489977Z"
    }
   },
   "cell_type": "code",
   "source": "customers_df",
   "id": "47075202cb9e4df7",
   "outputs": [
    {
     "data": {
      "text/plain": [
       "                            customer_id                customer_unique_id  \\\n",
       "0      06b8999e2fba1a1fbc88172c00ba8bc7  861eff4711a542e4b93843c6dd7febb0   \n",
       "1      18955e83d337fd6b2def6b18a428ac77  290c77bc529b7ac935b93aa66c333dc3   \n",
       "2      4e7b3e00288586ebd08712fdd0374a03  060e732b5b29e8181a18229c7b0b2b5e   \n",
       "3      b2b6027bc5c5109e529d4dc6358b12c3  259dac757896d24d7702b9acbbff3f3c   \n",
       "4      4f2d8ab171c80ec8364f7c12e35b23ad  345ecd01c38d18a9036ed96c73b8d066   \n",
       "...                                 ...                               ...   \n",
       "99436  17ddf5dd5d51696bb3d7c6291687be6f  1a29b476fee25c95fbafc67c5ac95cf8   \n",
       "99437  e7b71a9017aa05c9a7fd292d714858e8  d52a67c98be1cf6a5c84435bd38d095d   \n",
       "99438  5e28dfe12db7fb50a4b2f691faecea5e  e9f50caf99f032f0bf3c55141f019d99   \n",
       "99439  56b18e2166679b8a959d72dd06da27f9  73c2643a0a458b49f58cea58833b192e   \n",
       "99440  274fa6071e5e17fe303b9748641082c8  84732c5050c01db9b23e19ba39899398   \n",
       "\n",
       "       customer_zip_code_prefix          customer_city customer_state  \n",
       "0                         14409                 franca             SP  \n",
       "1                          9790  sao bernardo do campo             SP  \n",
       "2                          1151              sao paulo             SP  \n",
       "3                          8775        mogi das cruzes             SP  \n",
       "4                         13056               campinas             SP  \n",
       "...                         ...                    ...            ...  \n",
       "99436                      3937              sao paulo             SP  \n",
       "99437                      6764        taboao da serra             SP  \n",
       "99438                     60115              fortaleza             CE  \n",
       "99439                     92120                 canoas             RS  \n",
       "99440                      6703                  cotia             SP  \n",
       "\n",
       "[99441 rows x 5 columns]"
      ],
      "text/html": [
       "<div>\n",
       "<style scoped>\n",
       "    .dataframe tbody tr th:only-of-type {\n",
       "        vertical-align: middle;\n",
       "    }\n",
       "\n",
       "    .dataframe tbody tr th {\n",
       "        vertical-align: top;\n",
       "    }\n",
       "\n",
       "    .dataframe thead th {\n",
       "        text-align: right;\n",
       "    }\n",
       "</style>\n",
       "<table border=\"1\" class=\"dataframe\">\n",
       "  <thead>\n",
       "    <tr style=\"text-align: right;\">\n",
       "      <th></th>\n",
       "      <th>customer_id</th>\n",
       "      <th>customer_unique_id</th>\n",
       "      <th>customer_zip_code_prefix</th>\n",
       "      <th>customer_city</th>\n",
       "      <th>customer_state</th>\n",
       "    </tr>\n",
       "  </thead>\n",
       "  <tbody>\n",
       "    <tr>\n",
       "      <th>0</th>\n",
       "      <td>06b8999e2fba1a1fbc88172c00ba8bc7</td>\n",
       "      <td>861eff4711a542e4b93843c6dd7febb0</td>\n",
       "      <td>14409</td>\n",
       "      <td>franca</td>\n",
       "      <td>SP</td>\n",
       "    </tr>\n",
       "    <tr>\n",
       "      <th>1</th>\n",
       "      <td>18955e83d337fd6b2def6b18a428ac77</td>\n",
       "      <td>290c77bc529b7ac935b93aa66c333dc3</td>\n",
       "      <td>9790</td>\n",
       "      <td>sao bernardo do campo</td>\n",
       "      <td>SP</td>\n",
       "    </tr>\n",
       "    <tr>\n",
       "      <th>2</th>\n",
       "      <td>4e7b3e00288586ebd08712fdd0374a03</td>\n",
       "      <td>060e732b5b29e8181a18229c7b0b2b5e</td>\n",
       "      <td>1151</td>\n",
       "      <td>sao paulo</td>\n",
       "      <td>SP</td>\n",
       "    </tr>\n",
       "    <tr>\n",
       "      <th>3</th>\n",
       "      <td>b2b6027bc5c5109e529d4dc6358b12c3</td>\n",
       "      <td>259dac757896d24d7702b9acbbff3f3c</td>\n",
       "      <td>8775</td>\n",
       "      <td>mogi das cruzes</td>\n",
       "      <td>SP</td>\n",
       "    </tr>\n",
       "    <tr>\n",
       "      <th>4</th>\n",
       "      <td>4f2d8ab171c80ec8364f7c12e35b23ad</td>\n",
       "      <td>345ecd01c38d18a9036ed96c73b8d066</td>\n",
       "      <td>13056</td>\n",
       "      <td>campinas</td>\n",
       "      <td>SP</td>\n",
       "    </tr>\n",
       "    <tr>\n",
       "      <th>...</th>\n",
       "      <td>...</td>\n",
       "      <td>...</td>\n",
       "      <td>...</td>\n",
       "      <td>...</td>\n",
       "      <td>...</td>\n",
       "    </tr>\n",
       "    <tr>\n",
       "      <th>99436</th>\n",
       "      <td>17ddf5dd5d51696bb3d7c6291687be6f</td>\n",
       "      <td>1a29b476fee25c95fbafc67c5ac95cf8</td>\n",
       "      <td>3937</td>\n",
       "      <td>sao paulo</td>\n",
       "      <td>SP</td>\n",
       "    </tr>\n",
       "    <tr>\n",
       "      <th>99437</th>\n",
       "      <td>e7b71a9017aa05c9a7fd292d714858e8</td>\n",
       "      <td>d52a67c98be1cf6a5c84435bd38d095d</td>\n",
       "      <td>6764</td>\n",
       "      <td>taboao da serra</td>\n",
       "      <td>SP</td>\n",
       "    </tr>\n",
       "    <tr>\n",
       "      <th>99438</th>\n",
       "      <td>5e28dfe12db7fb50a4b2f691faecea5e</td>\n",
       "      <td>e9f50caf99f032f0bf3c55141f019d99</td>\n",
       "      <td>60115</td>\n",
       "      <td>fortaleza</td>\n",
       "      <td>CE</td>\n",
       "    </tr>\n",
       "    <tr>\n",
       "      <th>99439</th>\n",
       "      <td>56b18e2166679b8a959d72dd06da27f9</td>\n",
       "      <td>73c2643a0a458b49f58cea58833b192e</td>\n",
       "      <td>92120</td>\n",
       "      <td>canoas</td>\n",
       "      <td>RS</td>\n",
       "    </tr>\n",
       "    <tr>\n",
       "      <th>99440</th>\n",
       "      <td>274fa6071e5e17fe303b9748641082c8</td>\n",
       "      <td>84732c5050c01db9b23e19ba39899398</td>\n",
       "      <td>6703</td>\n",
       "      <td>cotia</td>\n",
       "      <td>SP</td>\n",
       "    </tr>\n",
       "  </tbody>\n",
       "</table>\n",
       "<p>99441 rows × 5 columns</p>\n",
       "</div>"
      ]
     },
     "execution_count": 4,
     "metadata": {},
     "output_type": "execute_result"
    }
   ],
   "execution_count": 4
  },
  {
   "metadata": {
    "ExecuteTime": {
     "end_time": "2025-06-02T00:20:03.240306Z",
     "start_time": "2025-06-02T00:20:03.135541Z"
    }
   },
   "cell_type": "code",
   "source": [
    "#  customer_unique_id 결합\n",
    "orders_df = orders_df.merge(customers_df[['customer_id', 'customer_unique_id']], on='customer_id', how='left')"
   ],
   "id": "ebd38cb76b9758c7",
   "outputs": [],
   "execution_count": 5
  },
  {
   "metadata": {
    "ExecuteTime": {
     "end_time": "2025-06-02T00:38:25.752759Z",
     "start_time": "2025-06-02T00:38:25.744220Z"
    }
   },
   "cell_type": "code",
   "source": "orders_df.info",
   "id": "4321501b44f47d5b",
   "outputs": [
    {
     "data": {
      "text/plain": [
       "<bound method DataFrame.info of                                order_id                       customer_id  \\\n",
       "0      e481f51cbdc54678b7cc49136f2d6af7  9ef432eb6251297304e76186b10a928d   \n",
       "1      53cdb2fc8bc7dce0b6741e2150273451  b0830fb4747a6c6d20dea0b8c802d7ef   \n",
       "2      47770eb9100c2d0c44946d9cf07ec65d  41ce2a54c0b03bf3443c3d931a367089   \n",
       "3      949d5b44dbf5de918fe9c16f97b45f8a  f88197465ea7920adcdbec7375364d82   \n",
       "4      ad21c59c0840e6cb83a9ceb5573f8159  8ab97904e6daea8866dbdbc4fb7aad2c   \n",
       "...                                 ...                               ...   \n",
       "99436  9c5dedf39a927c1b2549525ed64a053c  39bd1228ee8140590ac3aca26f2dfe00   \n",
       "99437  63943bddc261676b46f01ca7ac2f7bd8  1fca14ff2861355f6e5f14306ff977a7   \n",
       "99438  83c1379a015df1e13d02aae0204711ab  1aa71eb042121263aafbe80c1b562c9c   \n",
       "99439  11c177c8e97725db2631073c19f07b62  b331b74b18dc79bcdf6532d51e1637c1   \n",
       "99440  66dea50a8b16d9b4dee7af250b4be1a5  edb027a75a1449115f6b43211ae02a24   \n",
       "\n",
       "      order_status order_purchase_timestamp    order_approved_at  \\\n",
       "0        delivered      2017-10-02 10:56:33  2017-10-02 11:07:15   \n",
       "1        delivered      2018-07-24 20:41:37  2018-07-26 03:24:27   \n",
       "2        delivered      2018-08-08 08:38:49  2018-08-08 08:55:23   \n",
       "3        delivered      2017-11-18 19:28:06  2017-11-18 19:45:59   \n",
       "4        delivered      2018-02-13 21:18:39  2018-02-13 22:20:29   \n",
       "...            ...                      ...                  ...   \n",
       "99436    delivered      2017-03-09 09:54:05  2017-03-09 09:54:05   \n",
       "99437    delivered      2018-02-06 12:58:58  2018-02-06 13:10:37   \n",
       "99438    delivered      2017-08-27 14:46:43  2017-08-27 15:04:16   \n",
       "99439    delivered      2018-01-08 21:28:27  2018-01-08 21:36:21   \n",
       "99440    delivered      2018-03-08 20:57:30  2018-03-09 11:20:28   \n",
       "\n",
       "      order_delivered_carrier_date order_delivered_customer_date  \\\n",
       "0              2017-10-04 19:55:00           2017-10-10 21:25:13   \n",
       "1              2018-07-26 14:31:00           2018-08-07 15:27:45   \n",
       "2              2018-08-08 13:50:00           2018-08-17 18:06:29   \n",
       "3              2017-11-22 13:39:59           2017-12-02 00:28:42   \n",
       "4              2018-02-14 19:46:34           2018-02-16 18:17:02   \n",
       "...                            ...                           ...   \n",
       "99436          2017-03-10 11:18:03           2017-03-17 15:08:01   \n",
       "99437          2018-02-07 23:22:42           2018-02-28 17:37:56   \n",
       "99438          2017-08-28 20:52:26           2017-09-21 11:24:17   \n",
       "99439          2018-01-12 15:35:03           2018-01-25 23:32:54   \n",
       "99440          2018-03-09 22:11:59           2018-03-16 13:08:30   \n",
       "\n",
       "      order_estimated_delivery_date                customer_unique_id  \n",
       "0               2017-10-18 00:00:00  7c396fd4830fd04220f754e42b4e5bff  \n",
       "1               2018-08-13 00:00:00  af07308b275d755c9edb36a90c618231  \n",
       "2               2018-09-04 00:00:00  3a653a41f6f9fc3d2a113cf8398680e8  \n",
       "3               2017-12-15 00:00:00  7c142cf63193a1473d2e66489a9ae977  \n",
       "4               2018-02-26 00:00:00  72632f0f9dd73dfee390c9b22eb56dd6  \n",
       "...                             ...                               ...  \n",
       "99436           2017-03-28 00:00:00  6359f309b166b0196dbf7ad2ac62bb5a  \n",
       "99437           2018-03-02 00:00:00  da62f9e57a76d978d02ab5362c509660  \n",
       "99438           2017-09-27 00:00:00  737520a9aad80b3fbbdad19b66b37b30  \n",
       "99439           2018-02-15 00:00:00  5097a5312c8b157bb7be58ae360ef43c  \n",
       "99440           2018-04-03 00:00:00  60350aa974b26ff12caad89e55993bd6  \n",
       "\n",
       "[99441 rows x 9 columns]>"
      ]
     },
     "execution_count": 13,
     "metadata": {},
     "output_type": "execute_result"
    }
   ],
   "execution_count": 13
  },
  {
   "metadata": {
    "ExecuteTime": {
     "end_time": "2025-06-02T00:31:09.834874Z",
     "start_time": "2025-06-02T00:31:09.826525Z"
    }
   },
   "cell_type": "code",
   "source": [
    "# customers_df.info # 99441 x5\n",
    "orders_df.info # 99441 x 9"
   ],
   "id": "b2e35bdf7b8b014d",
   "outputs": [
    {
     "data": {
      "text/plain": [
       "<bound method DataFrame.info of                                order_id                       customer_id  \\\n",
       "0      e481f51cbdc54678b7cc49136f2d6af7  9ef432eb6251297304e76186b10a928d   \n",
       "1      53cdb2fc8bc7dce0b6741e2150273451  b0830fb4747a6c6d20dea0b8c802d7ef   \n",
       "2      47770eb9100c2d0c44946d9cf07ec65d  41ce2a54c0b03bf3443c3d931a367089   \n",
       "3      949d5b44dbf5de918fe9c16f97b45f8a  f88197465ea7920adcdbec7375364d82   \n",
       "4      ad21c59c0840e6cb83a9ceb5573f8159  8ab97904e6daea8866dbdbc4fb7aad2c   \n",
       "...                                 ...                               ...   \n",
       "99436  9c5dedf39a927c1b2549525ed64a053c  39bd1228ee8140590ac3aca26f2dfe00   \n",
       "99437  63943bddc261676b46f01ca7ac2f7bd8  1fca14ff2861355f6e5f14306ff977a7   \n",
       "99438  83c1379a015df1e13d02aae0204711ab  1aa71eb042121263aafbe80c1b562c9c   \n",
       "99439  11c177c8e97725db2631073c19f07b62  b331b74b18dc79bcdf6532d51e1637c1   \n",
       "99440  66dea50a8b16d9b4dee7af250b4be1a5  edb027a75a1449115f6b43211ae02a24   \n",
       "\n",
       "      order_status order_purchase_timestamp    order_approved_at  \\\n",
       "0        delivered      2017-10-02 10:56:33  2017-10-02 11:07:15   \n",
       "1        delivered      2018-07-24 20:41:37  2018-07-26 03:24:27   \n",
       "2        delivered      2018-08-08 08:38:49  2018-08-08 08:55:23   \n",
       "3        delivered      2017-11-18 19:28:06  2017-11-18 19:45:59   \n",
       "4        delivered      2018-02-13 21:18:39  2018-02-13 22:20:29   \n",
       "...            ...                      ...                  ...   \n",
       "99436    delivered      2017-03-09 09:54:05  2017-03-09 09:54:05   \n",
       "99437    delivered      2018-02-06 12:58:58  2018-02-06 13:10:37   \n",
       "99438    delivered      2017-08-27 14:46:43  2017-08-27 15:04:16   \n",
       "99439    delivered      2018-01-08 21:28:27  2018-01-08 21:36:21   \n",
       "99440    delivered      2018-03-08 20:57:30  2018-03-09 11:20:28   \n",
       "\n",
       "      order_delivered_carrier_date order_delivered_customer_date  \\\n",
       "0              2017-10-04 19:55:00           2017-10-10 21:25:13   \n",
       "1              2018-07-26 14:31:00           2018-08-07 15:27:45   \n",
       "2              2018-08-08 13:50:00           2018-08-17 18:06:29   \n",
       "3              2017-11-22 13:39:59           2017-12-02 00:28:42   \n",
       "4              2018-02-14 19:46:34           2018-02-16 18:17:02   \n",
       "...                            ...                           ...   \n",
       "99436          2017-03-10 11:18:03           2017-03-17 15:08:01   \n",
       "99437          2018-02-07 23:22:42           2018-02-28 17:37:56   \n",
       "99438          2017-08-28 20:52:26           2017-09-21 11:24:17   \n",
       "99439          2018-01-12 15:35:03           2018-01-25 23:32:54   \n",
       "99440          2018-03-09 22:11:59           2018-03-16 13:08:30   \n",
       "\n",
       "      order_estimated_delivery_date                customer_unique_id  \n",
       "0               2017-10-18 00:00:00  7c396fd4830fd04220f754e42b4e5bff  \n",
       "1               2018-08-13 00:00:00  af07308b275d755c9edb36a90c618231  \n",
       "2               2018-09-04 00:00:00  3a653a41f6f9fc3d2a113cf8398680e8  \n",
       "3               2017-12-15 00:00:00  7c142cf63193a1473d2e66489a9ae977  \n",
       "4               2018-02-26 00:00:00  72632f0f9dd73dfee390c9b22eb56dd6  \n",
       "...                             ...                               ...  \n",
       "99436           2017-03-28 00:00:00  6359f309b166b0196dbf7ad2ac62bb5a  \n",
       "99437           2018-03-02 00:00:00  da62f9e57a76d978d02ab5362c509660  \n",
       "99438           2017-09-27 00:00:00  737520a9aad80b3fbbdad19b66b37b30  \n",
       "99439           2018-02-15 00:00:00  5097a5312c8b157bb7be58ae360ef43c  \n",
       "99440           2018-04-03 00:00:00  60350aa974b26ff12caad89e55993bd6  \n",
       "\n",
       "[99441 rows x 9 columns]>"
      ]
     },
     "execution_count": 12,
     "metadata": {},
     "output_type": "execute_result"
    }
   ],
   "execution_count": 12
  },
  {
   "metadata": {
    "ExecuteTime": {
     "end_time": "2025-06-02T00:40:18.602856Z",
     "start_time": "2025-06-02T00:40:18.478652Z"
    }
   },
   "cell_type": "code",
   "source": [
    "order_counts = orders_df.groupby('customer_unique_id')['order_id'].nunique().reset_index()\n",
    "order_counts.columns = ['customer_unique_id', 'order_count']"
   ],
   "id": "cc2064b2011714ed",
   "outputs": [],
   "execution_count": 14
  }
 ],
 "metadata": {
  "kernelspec": {
   "display_name": "Python 3",
   "language": "python",
   "name": "python3"
  },
  "language_info": {
   "codemirror_mode": {
    "name": "ipython",
    "version": 2
   },
   "file_extension": ".py",
   "mimetype": "text/x-python",
   "name": "python",
   "nbconvert_exporter": "python",
   "pygments_lexer": "ipython2",
   "version": "2.7.6"
  }
 },
 "nbformat": 4,
 "nbformat_minor": 5
}
