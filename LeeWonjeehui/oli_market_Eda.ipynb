{
 "cells": [
  {
   "cell_type": "code",
   "id": "initial_id",
   "metadata": {
    "collapsed": true,
    "ExecuteTime": {
     "end_time": "2025-06-02T01:58:53.145582Z",
     "start_time": "2025-06-02T01:58:53.140462Z"
    }
   },
   "source": [
    "import pandas as pd\n",
    "import numpy as np\n",
    "\n",
    "import matplotlib.pyplot as plt\n"
   ],
   "outputs": [],
   "execution_count": 2
  },
  {
   "metadata": {
    "ExecuteTime": {
     "end_time": "2025-06-02T01:58:56.869378Z",
     "start_time": "2025-06-02T01:58:55.309563Z"
    }
   },
   "cell_type": "code",
   "source": [
    "customers_df = pd.read_csv('data/olist_customers_dataset.csv')\n",
    "sellers_df = pd.read_csv('data/olist_sellers_dataset.csv')\n",
    "orders_df = pd.read_csv('data/olist_orders_dataset.csv')\n",
    "products_df = pd.read_csv('data/olist_products_dataset.csv')\n",
    "geolocation_df = pd.read_csv('data/olist_geolocation_dataset.csv')\n",
    "order_items_df = pd.read_csv('data/olist_order_items_dataset.csv')\n",
    "order_reviews_df = pd.read_csv('data/olist_order_reviews_dataset.csv')\n",
    "order_payments_df = pd.read_csv('data/olist_order_payments_dataset.csv')\n",
    "trans_df = pd.read_csv('data/product_category_name_translation.csv')\n",
    "customers_df.head()"
   ],
   "id": "111f43c68359ac92",
   "outputs": [
    {
     "data": {
      "text/plain": [
       "                        customer_id                customer_unique_id  \\\n",
       "0  06b8999e2fba1a1fbc88172c00ba8bc7  861eff4711a542e4b93843c6dd7febb0   \n",
       "1  18955e83d337fd6b2def6b18a428ac77  290c77bc529b7ac935b93aa66c333dc3   \n",
       "2  4e7b3e00288586ebd08712fdd0374a03  060e732b5b29e8181a18229c7b0b2b5e   \n",
       "3  b2b6027bc5c5109e529d4dc6358b12c3  259dac757896d24d7702b9acbbff3f3c   \n",
       "4  4f2d8ab171c80ec8364f7c12e35b23ad  345ecd01c38d18a9036ed96c73b8d066   \n",
       "\n",
       "   customer_zip_code_prefix          customer_city customer_state  \n",
       "0                     14409                 franca             SP  \n",
       "1                      9790  sao bernardo do campo             SP  \n",
       "2                      1151              sao paulo             SP  \n",
       "3                      8775        mogi das cruzes             SP  \n",
       "4                     13056               campinas             SP  "
      ],
      "text/html": [
       "<div>\n",
       "<style scoped>\n",
       "    .dataframe tbody tr th:only-of-type {\n",
       "        vertical-align: middle;\n",
       "    }\n",
       "\n",
       "    .dataframe tbody tr th {\n",
       "        vertical-align: top;\n",
       "    }\n",
       "\n",
       "    .dataframe thead th {\n",
       "        text-align: right;\n",
       "    }\n",
       "</style>\n",
       "<table border=\"1\" class=\"dataframe\">\n",
       "  <thead>\n",
       "    <tr style=\"text-align: right;\">\n",
       "      <th></th>\n",
       "      <th>customer_id</th>\n",
       "      <th>customer_unique_id</th>\n",
       "      <th>customer_zip_code_prefix</th>\n",
       "      <th>customer_city</th>\n",
       "      <th>customer_state</th>\n",
       "    </tr>\n",
       "  </thead>\n",
       "  <tbody>\n",
       "    <tr>\n",
       "      <th>0</th>\n",
       "      <td>06b8999e2fba1a1fbc88172c00ba8bc7</td>\n",
       "      <td>861eff4711a542e4b93843c6dd7febb0</td>\n",
       "      <td>14409</td>\n",
       "      <td>franca</td>\n",
       "      <td>SP</td>\n",
       "    </tr>\n",
       "    <tr>\n",
       "      <th>1</th>\n",
       "      <td>18955e83d337fd6b2def6b18a428ac77</td>\n",
       "      <td>290c77bc529b7ac935b93aa66c333dc3</td>\n",
       "      <td>9790</td>\n",
       "      <td>sao bernardo do campo</td>\n",
       "      <td>SP</td>\n",
       "    </tr>\n",
       "    <tr>\n",
       "      <th>2</th>\n",
       "      <td>4e7b3e00288586ebd08712fdd0374a03</td>\n",
       "      <td>060e732b5b29e8181a18229c7b0b2b5e</td>\n",
       "      <td>1151</td>\n",
       "      <td>sao paulo</td>\n",
       "      <td>SP</td>\n",
       "    </tr>\n",
       "    <tr>\n",
       "      <th>3</th>\n",
       "      <td>b2b6027bc5c5109e529d4dc6358b12c3</td>\n",
       "      <td>259dac757896d24d7702b9acbbff3f3c</td>\n",
       "      <td>8775</td>\n",
       "      <td>mogi das cruzes</td>\n",
       "      <td>SP</td>\n",
       "    </tr>\n",
       "    <tr>\n",
       "      <th>4</th>\n",
       "      <td>4f2d8ab171c80ec8364f7c12e35b23ad</td>\n",
       "      <td>345ecd01c38d18a9036ed96c73b8d066</td>\n",
       "      <td>13056</td>\n",
       "      <td>campinas</td>\n",
       "      <td>SP</td>\n",
       "    </tr>\n",
       "  </tbody>\n",
       "</table>\n",
       "</div>"
      ]
     },
     "execution_count": 3,
     "metadata": {},
     "output_type": "execute_result"
    }
   ],
   "execution_count": 3
  },
  {
   "metadata": {
    "ExecuteTime": {
     "end_time": "2025-06-02T01:59:06.319003Z",
     "start_time": "2025-06-02T01:59:06.288326Z"
    }
   },
   "cell_type": "code",
   "source": "customers_df.isnull().sum()",
   "id": "89cf6a0512be2110",
   "outputs": [
    {
     "data": {
      "text/plain": [
       "customer_id                 0\n",
       "customer_unique_id          0\n",
       "customer_zip_code_prefix    0\n",
       "customer_city               0\n",
       "customer_state              0\n",
       "dtype: int64"
      ]
     },
     "execution_count": 4,
     "metadata": {},
     "output_type": "execute_result"
    }
   ],
   "execution_count": 4
  },
  {
   "metadata": {
    "ExecuteTime": {
     "end_time": "2025-06-02T01:59:08.560884Z",
     "start_time": "2025-06-02T01:59:08.539233Z"
    }
   },
   "cell_type": "code",
   "source": "sellers_df.isnull().sum()",
   "id": "d8cc46836ab845f0",
   "outputs": [
    {
     "data": {
      "text/plain": [
       "seller_id                 0\n",
       "seller_zip_code_prefix    0\n",
       "seller_city               0\n",
       "seller_state              0\n",
       "dtype: int64"
      ]
     },
     "execution_count": 5,
     "metadata": {},
     "output_type": "execute_result"
    }
   ],
   "execution_count": 5
  },
  {
   "metadata": {
    "ExecuteTime": {
     "end_time": "2025-06-02T01:59:10.599382Z",
     "start_time": "2025-06-02T01:59:10.559766Z"
    }
   },
   "cell_type": "code",
   "source": "orders_df.isnull().sum()\n",
   "id": "a6425bbcaaa8803b",
   "outputs": [
    {
     "data": {
      "text/plain": [
       "order_id                            0\n",
       "customer_id                         0\n",
       "order_status                        0\n",
       "order_purchase_timestamp            0\n",
       "order_approved_at                 160\n",
       "order_delivered_carrier_date     1783\n",
       "order_delivered_customer_date    2965\n",
       "order_estimated_delivery_date       0\n",
       "dtype: int64"
      ]
     },
     "execution_count": 6,
     "metadata": {},
     "output_type": "execute_result"
    }
   ],
   "execution_count": 6
  },
  {
   "metadata": {
    "ExecuteTime": {
     "end_time": "2025-06-02T01:59:12.902266Z",
     "start_time": "2025-06-02T01:59:12.857294Z"
    }
   },
   "cell_type": "code",
   "source": [
    "# 결측치가 있는 행 제거\n",
    "orders_df = orders_df.dropna()\n"
   ],
   "id": "dd8f2ee32cf0bc0d",
   "outputs": [],
   "execution_count": 7
  },
  {
   "metadata": {
    "ExecuteTime": {
     "end_time": "2025-06-02T01:59:14.712402Z",
     "start_time": "2025-06-02T01:59:14.665122Z"
    }
   },
   "cell_type": "code",
   "source": "orders_df.isnull().sum()",
   "id": "61c80af5354543c",
   "outputs": [
    {
     "data": {
      "text/plain": [
       "order_id                         0\n",
       "customer_id                      0\n",
       "order_status                     0\n",
       "order_purchase_timestamp         0\n",
       "order_approved_at                0\n",
       "order_delivered_carrier_date     0\n",
       "order_delivered_customer_date    0\n",
       "order_estimated_delivery_date    0\n",
       "dtype: int64"
      ]
     },
     "execution_count": 8,
     "metadata": {},
     "output_type": "execute_result"
    }
   ],
   "execution_count": 8
  },
  {
   "metadata": {
    "ExecuteTime": {
     "end_time": "2025-06-02T01:59:16.823421Z",
     "start_time": "2025-06-02T01:59:16.810874Z"
    }
   },
   "cell_type": "code",
   "source": "products_df.isnull().sum()",
   "id": "9b354e3567b92a89",
   "outputs": [
    {
     "data": {
      "text/plain": [
       "product_id                      0\n",
       "product_category_name         610\n",
       "product_name_lenght           610\n",
       "product_description_lenght    610\n",
       "product_photos_qty            610\n",
       "product_weight_g                2\n",
       "product_length_cm               2\n",
       "product_height_cm               2\n",
       "product_width_cm                2\n",
       "dtype: int64"
      ]
     },
     "execution_count": 9,
     "metadata": {},
     "output_type": "execute_result"
    }
   ],
   "execution_count": 9
  },
  {
   "metadata": {
    "ExecuteTime": {
     "end_time": "2025-06-02T01:59:20.468961Z",
     "start_time": "2025-06-02T01:59:20.431856Z"
    }
   },
   "cell_type": "code",
   "source": [
    "products_df.drop(columns=['product_name_lenght', 'product_description_lenght', 'product_weight_g', 'product_length_cm', 'product_height_cm', 'product_width_cm'], inplace=True)\n",
    "\n",
    "products_df.isnull().sum()\n"
   ],
   "id": "c2286b282c7c80f7",
   "outputs": [
    {
     "data": {
      "text/plain": [
       "product_id                 0\n",
       "product_category_name    610\n",
       "product_photos_qty       610\n",
       "dtype: int64"
      ]
     },
     "execution_count": 10,
     "metadata": {},
     "output_type": "execute_result"
    }
   ],
   "execution_count": 10
  },
  {
   "metadata": {
    "ExecuteTime": {
     "end_time": "2025-06-02T01:59:24.664509Z",
     "start_time": "2025-06-02T01:59:24.650675Z"
    }
   },
   "cell_type": "code",
   "source": [
    "# 결측치가 있는 행 제거\n",
    "products_df = products_df.dropna()"
   ],
   "id": "306537a143702c66",
   "outputs": [],
   "execution_count": 11
  },
  {
   "metadata": {
    "ExecuteTime": {
     "end_time": "2025-06-02T01:59:26.054901Z",
     "start_time": "2025-06-02T01:59:26.036583Z"
    }
   },
   "cell_type": "code",
   "source": "products_df.isnull().sum()",
   "id": "904da5762a3ca1a2",
   "outputs": [
    {
     "data": {
      "text/plain": [
       "product_id               0\n",
       "product_category_name    0\n",
       "product_photos_qty       0\n",
       "dtype: int64"
      ]
     },
     "execution_count": 12,
     "metadata": {},
     "output_type": "execute_result"
    }
   ],
   "execution_count": 12
  },
  {
   "metadata": {
    "ExecuteTime": {
     "end_time": "2025-06-02T01:59:29.159649Z",
     "start_time": "2025-06-02T01:59:29.102056Z"
    }
   },
   "cell_type": "code",
   "source": "geolocation_df.isnull().sum()\n",
   "id": "842ff737b7169493",
   "outputs": [
    {
     "data": {
      "text/plain": [
       "geolocation_zip_code_prefix    0\n",
       "geolocation_lat                0\n",
       "geolocation_lng                0\n",
       "geolocation_city               0\n",
       "geolocation_state              0\n",
       "dtype: int64"
      ]
     },
     "execution_count": 13,
     "metadata": {},
     "output_type": "execute_result"
    }
   ],
   "execution_count": 13
  },
  {
   "metadata": {
    "ExecuteTime": {
     "end_time": "2025-06-02T01:59:32.158240Z",
     "start_time": "2025-06-02T01:59:32.134798Z"
    }
   },
   "cell_type": "code",
   "source": "order_items_df.isnull().sum()",
   "id": "b0ab12ec4ad40b9f",
   "outputs": [
    {
     "data": {
      "text/plain": [
       "order_id               0\n",
       "order_item_id          0\n",
       "product_id             0\n",
       "seller_id              0\n",
       "shipping_limit_date    0\n",
       "price                  0\n",
       "freight_value          0\n",
       "dtype: int64"
      ]
     },
     "execution_count": 14,
     "metadata": {},
     "output_type": "execute_result"
    }
   ],
   "execution_count": 14
  },
  {
   "metadata": {
    "ExecuteTime": {
     "end_time": "2025-06-02T01:59:33.706795Z",
     "start_time": "2025-06-02T01:59:33.674622Z"
    }
   },
   "cell_type": "code",
   "source": "order_reviews_df.isnull().sum()",
   "id": "d5092de76a8edcae",
   "outputs": [
    {
     "data": {
      "text/plain": [
       "review_id                      0\n",
       "order_id                       0\n",
       "review_score                   0\n",
       "review_comment_title       87656\n",
       "review_comment_message     58247\n",
       "review_creation_date           0\n",
       "review_answer_timestamp        0\n",
       "dtype: int64"
      ]
     },
     "execution_count": 15,
     "metadata": {},
     "output_type": "execute_result"
    }
   ],
   "execution_count": 15
  },
  {
   "metadata": {
    "ExecuteTime": {
     "end_time": "2025-06-02T01:59:41.673836Z",
     "start_time": "2025-06-02T01:59:41.646748Z"
    }
   },
   "cell_type": "code",
   "source": [
    "order_reviews_df = order_reviews_df.drop(columns=['review_comment_title', 'review_comment_message'])\n",
    "\n",
    "# 삭제 후 컬럼 확인\n",
    "print(order_reviews_df.columns)\n"
   ],
   "id": "3940594ef686cfb6",
   "outputs": [
    {
     "name": "stdout",
     "output_type": "stream",
     "text": [
      "Index(['review_id', 'order_id', 'review_score', 'review_creation_date',\n",
      "       'review_answer_timestamp'],\n",
      "      dtype='object')\n"
     ]
    }
   ],
   "execution_count": 16
  },
  {
   "metadata": {
    "ExecuteTime": {
     "end_time": "2025-06-02T01:59:44.039444Z",
     "start_time": "2025-06-02T01:59:44.005533Z"
    }
   },
   "cell_type": "code",
   "source": "order_reviews_df.isnull().sum()",
   "id": "a3a260bba5eae0c8",
   "outputs": [
    {
     "data": {
      "text/plain": [
       "review_id                  0\n",
       "order_id                   0\n",
       "review_score               0\n",
       "review_creation_date       0\n",
       "review_answer_timestamp    0\n",
       "dtype: int64"
      ]
     },
     "execution_count": 17,
     "metadata": {},
     "output_type": "execute_result"
    }
   ],
   "execution_count": 17
  },
  {
   "metadata": {
    "ExecuteTime": {
     "end_time": "2025-06-02T01:59:45.894237Z",
     "start_time": "2025-06-02T01:59:45.867489Z"
    }
   },
   "cell_type": "code",
   "source": "order_payments_df.isnull().sum()",
   "id": "b630491200013d5f",
   "outputs": [
    {
     "data": {
      "text/plain": [
       "order_id                0\n",
       "payment_sequential      0\n",
       "payment_type            0\n",
       "payment_installments    0\n",
       "payment_value           0\n",
       "dtype: int64"
      ]
     },
     "execution_count": 18,
     "metadata": {},
     "output_type": "execute_result"
    }
   ],
   "execution_count": 18
  },
  {
   "metadata": {
    "ExecuteTime": {
     "end_time": "2025-06-02T01:59:52.157020Z",
     "start_time": "2025-06-02T01:59:51.933042Z"
    }
   },
   "cell_type": "code",
   "source": [
    "import pandas as pd\n",
    "import matplotlib.pyplot as plt\n",
    "import matplotlib.font_manager as fm\n",
    "import platform\n",
    "\n",
    "# ✅ 한글 폰트 설정\n",
    "if platform.system() == 'Windows':\n",
    "    plt.rc('font', family='Malgun Gothic')  # Windows용 폰트\n",
    "elif platform.system() == 'Darwin':\n",
    "    plt.rc('font', family='AppleGothic')    # MacOS용 폰트\n",
    "else:\n",
    "    plt.rc('font', family='DejaVu Sans')    # Linux는 대체 폰트\n",
    "\n",
    "plt.rcParams['axes.unicode_minus'] = False  # 마이너스 기호 깨짐 방지\n",
    "\n",
    "# 1️⃣ 데이터 불러오기 (혹시 customers_df가 없으면 아래 주석 해제!)\n",
    "# customers_df = pd.read_csv('olist_customers_dataset.csv')\n",
    "\n",
    "# 2️⃣ 도시별 주문수 집계\n",
    "city_order_counts = customers_df['customer_city'].value_counts().reset_index()\n",
    "city_order_counts.columns = ['customer_city', 'order_count']\n",
    "\n",
    "# 3️⃣ 상위 5개 도시만 추출\n",
    "top_5_cities = city_order_counts.head(5)\n",
    "\n",
    "# 4️⃣ 시각화\n",
    "plt.figure(figsize=(10, 6))\n",
    "bars = plt.bar(top_5_cities['customer_city'], top_5_cities['order_count'], color='skyblue')\n",
    "\n",
    "plt.title('주요 도시별 주문수 (상위 5개)', fontsize=14)\n",
    "plt.xlabel('도시명')\n",
    "plt.ylabel('주문수')\n",
    "plt.xticks(rotation=45, ha='right')\n",
    "plt.grid(axis='y', linestyle='--', alpha=0.5)\n",
    "\n",
    "# 막대 위에 주문수 표시\n",
    "for bar in bars:\n",
    "    height = bar.get_height()\n",
    "    plt.text(bar.get_x() + bar.get_width()/2, height, f'{height}', ha='center', va='bottom', fontsize=10)\n",
    "\n",
    "plt.tight_layout()\n",
    "plt.show()\n"
   ],
   "id": "aa573f542f06868c",
   "outputs": [
    {
     "data": {
      "text/plain": [
       "<Figure size 1000x600 with 1 Axes>"
      ],
      "image/png": "[encoded data removed]"
     },
     "metadata": {},
     "output_type": "display_data"
    }
   ],
   "execution_count": 19
  },
  {
   "metadata": {
    "ExecuteTime": {
     "end_time": "2025-06-02T01:59:58.181665Z",
     "start_time": "2025-06-02T01:59:57.990259Z"
    }
   },
   "cell_type": "code",
   "source": [
    "import matplotlib.pyplot as plt\n",
    "\n",
    "# 1. 리뷰 점수 평균 계산\n",
    "mean_score = order_reviews_df['review_score'].mean()\n",
    "print(f\"리뷰 점수 평균: {mean_score:.2f}\")\n",
    "\n",
    "# 2. 히스토그램 시각화\n",
    "plt.figure(figsize=(8,5))\n",
    "plt.hist(order_reviews_df['review_score'], bins=10, color='skyblue', edgecolor='black')\n",
    "plt.title('리뷰 점수 분포')\n",
    "plt.xlabel('리뷰 점수')\n",
    "plt.ylabel('빈도수')\n",
    "plt.grid(axis='y', linestyle='--', alpha=0.7)\n",
    "\n",
    "# 평균선 표시\n",
    "plt.axvline(mean_score, color='red', linestyle='dashed', linewidth=2, label=f'평균 점수: {mean_score:.2f}')\n",
    "plt.legend()\n",
    "\n",
    "plt.show()\n"
   ],
   "id": "d7ea6a5396ab3764",
   "outputs": [
    {
     "name": "stdout",
     "output_type": "stream",
     "text": [
      "리뷰 점수 평균: 4.09\n"
     ]
    },
    {
     "data": {
      "text/plain": [
       "<Figure size 800x500 with 1 Axes>"
      ],
      "image/png": "[encoded data removed]"
     },
     "metadata": {},
     "output_type": "display_data"
    }
   ],
   "execution_count": 20
  },
  {
   "metadata": {
    "ExecuteTime": {
     "end_time": "2025-06-02T02:00:00.502701Z",
     "start_time": "2025-06-02T02:00:00.477952Z"
    }
   },
   "cell_type": "code",
   "source": [
    "median_score = order_reviews_df['review_score'].median()\n",
    "print(f\"리뷰 점수 중앙값: {median_score}\")\n"
   ],
   "id": "21c5d975ee55430a",
   "outputs": [
    {
     "name": "stdout",
     "output_type": "stream",
     "text": [
      "리뷰 점수 중앙값: 5.0\n"
     ]
    }
   ],
   "execution_count": 21
  },
  {
   "metadata": {
    "ExecuteTime": {
     "end_time": "2025-06-02T02:00:02.770472Z",
     "start_time": "2025-06-02T02:00:01.620544Z"
    }
   },
   "cell_type": "code",
   "source": [
    "import seaborn as sns\n",
    "\n",
    "plt.figure(figsize=(8,5))\n",
    "sns.boxplot(x=order_reviews_df['review_score'])\n",
    "plt.title('리뷰 점수 박스플롯')\n",
    "plt.show()\n",
    "\n",
    "plt.figure(figsize=(8,5))\n",
    "sns.kdeplot(order_reviews_df['review_score'], shade=True)\n",
    "plt.title('리뷰 점수 밀도 그래프')\n",
    "plt.show()\n"
   ],
   "id": "fc453dfd6e6cb631",
   "outputs": [
    {
     "data": {
      "text/plain": [
       "<Figure size 800x500 with 1 Axes>"
      ],
      "image/png": "[encoded data removed]"
     },
     "metadata": {},
     "output_type": "display_data"
    },
    {
     "name": "stderr",
     "output_type": "stream",
     "text": [
      "C:\\Users\\Playdata2\\AppData\\Local\\Temp\\ipykernel_8824\\1699765795.py:9: FutureWarning: \n",
      "\n",
      "`shade` is now deprecated in favor of `fill`; setting `fill=True`.\n",
      "This will become an error in seaborn v0.14.0; please update your code.\n",
      "\n",
      "  sns.kdeplot(order_reviews_df['review_score'], shade=True)\n"
     ]
    },
    {
     "data": {
      "text/plain": [
       "<Figure size 800x500 with 1 Axes>"
      ],
      "image/png": "[encoded data removed]"
     },
     "metadata": {},
     "output_type": "display_data"
    }
   ],
   "execution_count": 22
  },
  {
   "metadata": {
    "ExecuteTime": {
     "end_time": "2025-06-02T02:00:05.783313Z",
     "start_time": "2025-06-02T02:00:05.773424Z"
    }
   },
   "cell_type": "code",
   "source": [
    "## 점수별비율\n",
    "score_counts = order_reviews_df['review_score'].value_counts(normalize=True).sort_index()\n",
    "print(score_counts)\n"
   ],
   "id": "6323d71ff4e32eae",
   "outputs": [
    {
     "name": "stdout",
     "output_type": "stream",
     "text": [
      "review_score\n",
      "1    0.115133\n",
      "2    0.031756\n",
      "3    0.082430\n",
      "4    0.192917\n",
      "5    0.577763\n",
      "Name: proportion, dtype: float64\n"
     ]
    }
   ],
   "execution_count": 23
  },
  {
   "metadata": {
    "ExecuteTime": {
     "end_time": "2025-06-02T02:00:13.821567Z",
     "start_time": "2025-06-02T02:00:13.757079Z"
    }
   },
   "cell_type": "code",
   "source": [
    "import pandas as pd\n",
    "\n",
    "\n",
    "\n",
    "# 2️⃣ products_df와 번역 데이터 병합 (카테고리 영어 이름 붙이기)\n",
    "products_df = products_df.merge(trans_df, on='product_category_name', how='left')\n",
    "\n",
    "# 3️⃣ order_items_df와 products_df 병합 (제품 ID 기준으로)\n",
    "order_items_full = order_items_df.merge(\n",
    "    products_df[['product_id', 'product_category_name_english']],\n",
    "    on='product_id',\n",
    "    how='left'\n",
    ")\n",
    "\n",
    "# 4️⃣ 카테고리별 판매량 집계\n",
    "category_sales = order_items_full['product_category_name_english'].value_counts().reset_index()\n",
    "category_sales.columns = ['product_category_name_english', 'sales_count']\n",
    "\n",
    "# 5️⃣ 판매량 상위 10개 카테고리 출력\n",
    "print(category_sales.head(10))\n"
   ],
   "id": "d5b665b2803c9e0d",
   "outputs": [
    {
     "name": "stdout",
     "output_type": "stream",
     "text": [
      "  product_category_name_english  sales_count\n",
      "0                bed_bath_table        11115\n",
      "1                 health_beauty         9670\n",
      "2                sports_leisure         8641\n",
      "3               furniture_decor         8334\n",
      "4         computers_accessories         7827\n",
      "5                    housewares         6964\n",
      "6                 watches_gifts         5991\n",
      "7                     telephony         4545\n",
      "8                  garden_tools         4347\n",
      "9                          auto         4235\n"
     ]
    }
   ],
   "execution_count": 24
  },
  {
   "metadata": {
    "ExecuteTime": {
     "end_time": "2025-06-02T02:00:38.670373Z",
     "start_time": "2025-06-02T02:00:38.450568Z"
    }
   },
   "cell_type": "code",
   "source": [
    "import pandas as pd\n",
    "\n",
    "# 1️⃣ 결제 데이터 불러오기 (예시)\n",
    "order_payments_df = pd.read_csv('data/olist_order_payments_dataset.csv')\n",
    "\n",
    "# 2️⃣ 결제 유형별 비율 계산 (정규화)\n",
    "payment_type_ratio = order_payments_df['payment_type'].value_counts(normalize=True) * 100\n",
    "\n",
    "# 3️⃣ 결과 출력\n",
    "print(payment_type_ratio)\n",
    "\n",
    "# 4️⃣ (선택) 시각화 - 비율 막대그래프\n",
    "import matplotlib.pyplot as plt\n",
    "\n",
    "payment_type_ratio.plot(kind='bar', color='skyblue', figsize=(8,5))\n",
    "plt.title('결제 유형별 비율 (%)')\n",
    "plt.ylabel('비율 (%)')\n",
    "plt.xlabel('결제 유형')\n",
    "plt.xticks(rotation=45)\n",
    "plt.show()\n"
   ],
   "id": "54a5696ebd95a502",
   "outputs": [
    {
     "name": "stdout",
     "output_type": "stream",
     "text": [
      "payment_type\n",
      "credit_card    73.922376\n",
      "boleto         19.043952\n",
      "voucher         5.558978\n",
      "debit_card      1.471806\n",
      "not_defined     0.002888\n",
      "Name: proportion, dtype: float64\n"
     ]
    },
    {
     "data": {
      "text/plain": [
       "<Figure size 800x500 with 1 Axes>"
      ],
      "image/png": "[encoded data removed]"
     },
     "metadata": {},
     "output_type": "display_data"
    }
   ],
   "execution_count": 25
  },
  {
   "metadata": {
    "ExecuteTime": {
     "end_time": "2025-06-02T02:00:43.495928Z",
     "start_time": "2025-06-02T02:00:43.399152Z"
    }
   },
   "cell_type": "code",
   "source": [
    "import pandas as pd\n",
    "\n",
    "\n",
    "# 날짜 컬럼을 datetime으로 변환\n",
    "orders_df['order_purchase_timestamp'] = pd.to_datetime(orders_df['order_purchase_timestamp'])\n",
    "orders_df['order_delivered_customer_date'] = pd.to_datetime(orders_df['order_delivered_customer_date'])\n",
    "\n",
    "# 배송 기간(일) 계산 (배송 완료 날짜 - 구매 날짜)\n",
    "orders_df['delivery_time_days'] = (orders_df['order_delivered_customer_date'] - orders_df['order_purchase_timestamp']).dt.days\n",
    "\n",
    "# 결측치 제거 (배송 완료 날짜가 없는 경우가 있음)\n",
    "valid_delivery_times = orders_df['delivery_time_days'].dropna()\n",
    "\n",
    "# 평균 배송 기간 계산\n",
    "average_delivery_days = valid_delivery_times.mean()\n",
    "\n",
    "print(f'평균 배송 기간: {average_delivery_days:.2f}일')\n"
   ],
   "id": "9108bc54254908fe",
   "outputs": [
    {
     "name": "stdout",
     "output_type": "stream",
     "text": [
      "평균 배송 기간: 12.09일\n"
     ]
    }
   ],
   "execution_count": 26
  },
  {
   "metadata": {
    "ExecuteTime": {
     "end_time": "2025-06-02T02:00:48.101133Z",
     "start_time": "2025-06-02T02:00:47.989426Z"
    }
   },
   "cell_type": "code",
   "source": [
    "# 1. 결측치가 있는 행 제거하고 복사본 생성\n",
    "valid_orders = orders_df.dropna(subset=['order_estimated_delivery_date', 'order_delivered_customer_date']).copy()\n",
    "\n",
    "# 2. 배송 지연 여부 컬럼 추가\n",
    "valid_orders['is_late'] = valid_orders['order_delivered_customer_date'] > valid_orders['order_estimated_delivery_date']\n",
    "\n",
    "# 3. 배송 지연 비율 계산\n",
    "late_rate = valid_orders['is_late'].mean() * 100\n",
    "print(f\"배송 지연 비율: {late_rate:.2f}%\")\n"
   ],
   "id": "38fbcf4b19d48d40",
   "outputs": [
    {
     "name": "stdout",
     "output_type": "stream",
     "text": [
      "배송 지연 비율: 8.11%\n"
     ]
    }
   ],
   "execution_count": 27
  },
  {
   "metadata": {
    "ExecuteTime": {
     "end_time": "2025-06-02T02:00:52.347749Z",
     "start_time": "2025-06-02T02:00:52.157228Z"
    }
   },
   "cell_type": "code",
   "source": [
    "import pandas as pd\n",
    "import matplotlib.pyplot as plt\n",
    "\n",
    "# 1. 날짜 타입으로 변환\n",
    "orders_df['order_purchase_timestamp'] = pd.to_datetime(orders_df['order_purchase_timestamp'])\n",
    "\n",
    "# 2. 월별 주문 수 집계 (년-월 기준)\n",
    "orders_df['order_month'] = orders_df['order_purchase_timestamp'].dt.to_period('M')\n",
    "monthly_orders = orders_df.groupby('order_month').size().reset_index(name='order_count')\n",
    "\n",
    "# 3. order_month를 datetime으로 변환 (시각화를 위해)\n",
    "monthly_orders['order_month'] = monthly_orders['order_month'].dt.to_timestamp()\n",
    "\n",
    "# 4. 시각화\n",
    "plt.figure(figsize=(12,6))\n",
    "plt.plot(monthly_orders['order_month'], monthly_orders['order_count'], marker='o')\n",
    "plt.title('월별 주문수 추이')\n",
    "plt.xlabel('월')\n",
    "plt.ylabel('주문수')\n",
    "plt.grid(True)\n",
    "plt.xticks(rotation=45)\n",
    "plt.show()\n"
   ],
   "id": "ebfa5c67be3d9caa",
   "outputs": [
    {
     "data": {
      "text/plain": [
       "<Figure size 1200x600 with 1 Axes>"
      ],
      "image/png": "[encoded data removed]"
     },
     "metadata": {},
     "output_type": "display_data"
    }
   ],
   "execution_count": 28
  },
  {
   "metadata": {
    "ExecuteTime": {
     "end_time": "2025-06-01T14:27:52.938843Z",
     "start_time": "2025-06-01T14:27:52.924781Z"
    }
   },
   "cell_type": "code",
   "source": "customers_df.columns\n",
   "id": "47bb321b490b027a",
   "outputs": [
    {
     "data": {
      "text/plain": [
       "Index(['customer_id', 'customer_unique_id', 'customer_zip_code_prefix',\n",
       "       'customer_city', 'customer_state'],\n",
       "      dtype='object')"
      ]
     },
     "execution_count": 72,
     "metadata": {},
     "output_type": "execute_result"
    }
   ],
   "execution_count": 72
  },
  {
   "metadata": {
    "ExecuteTime": {
     "end_time": "2025-06-01T14:27:53.026927Z",
     "start_time": "2025-06-01T14:27:53.017036Z"
    }
   },
   "cell_type": "code",
   "source": "orders_df.columns",
   "id": "e7907a7a297a3ffc",
   "outputs": [
    {
     "data": {
      "text/plain": [
       "Index(['order_id', 'customer_id', 'order_status', 'order_purchase_timestamp',\n",
       "       'order_approved_at', 'order_delivered_carrier_date',\n",
       "       'order_delivered_customer_date', 'order_estimated_delivery_date',\n",
       "       'delivery_time_days', 'order_month'],\n",
       "      dtype='object')"
      ]
     },
     "execution_count": 73,
     "metadata": {},
     "output_type": "execute_result"
    }
   ],
   "execution_count": 73
  },
  {
   "metadata": {
    "ExecuteTime": {
     "end_time": "2025-06-02T02:01:42.311614Z",
     "start_time": "2025-06-02T02:01:41.901623Z"
    }
   },
   "cell_type": "code",
   "source": [
    "import pandas as pd\n",
    "\n",
    "\n",
    "\n",
    "# 고객-주문 병합 (customer_id 기준)\n",
    "customer_orders_df = pd.merge(customers_df, orders_df, on='customer_id', how='inner')\n",
    "\n",
    "# 고객의 주문 개수 계산 (customer_unique_id 기준)\n",
    "customer_order_counts = customer_orders_df.groupby('customer_unique_id')['order_id'].nunique().reset_index(name='order_count')\n",
    "\n",
    "# 재구매 고객 (2회 이상 주문한 고객)\n",
    "repeat_customers = customer_order_counts[customer_order_counts['order_count'] > 1]\n",
    "\n",
    "# 전체 고객 수 (unique customer)\n",
    "total_customers = customer_order_counts['customer_unique_id'].nunique()\n",
    "\n",
    "# 재구매 고객 수\n",
    "repeat_customers_count = repeat_customers['customer_unique_id'].nunique()\n",
    "\n",
    "# 재구매 고객 비율\n",
    "repeat_customer_rate = (repeat_customers_count / total_customers) * 100\n",
    "\n",
    "print(f'전체 고객 수: {total_customers}')\n",
    "print(f'재구매 고객 수: {repeat_customers_count}')\n",
    "print(f'재구매 고객 비율: {repeat_customer_rate:.2f}%')\n"
   ],
   "id": "7405fd98f7b7c32f",
   "outputs": [
    {
     "name": "stdout",
     "output_type": "stream",
     "text": [
      "전체 고객 수: 93342\n",
      "재구매 고객 수: 2800\n",
      "재구매 고객 비율: 3.00%\n"
     ]
    }
   ],
   "execution_count": 29
  },
  {
   "metadata": {
    "ExecuteTime": {
     "end_time": "2025-06-02T02:54:24.613487Z",
     "start_time": "2025-06-02T02:54:24.272740Z"
    }
   },
   "cell_type": "code",
   "source": [
    "\n",
    "\n",
    "# customers_df, orders_df가 이미 로드되어 있다고 가정\n",
    "\n",
    "# 1. 고객-주문 병합 (customer_id 기준)\n",
    "customer_orders_df = pd.merge(customers_df, orders_df, on='customer_id', how='inner')\n",
    "\n",
    "# 2. 고객별 주문 개수 계산\n",
    "customer_order_counts = customer_orders_df.groupby('customer_unique_id')['order_id'].nunique().reset_index(name='order_count')\n",
    "\n",
    "# 3. 재구매 고객 필터링 (2회 이상 구매)\n",
    "repeat_customers = customer_order_counts[customer_order_counts['order_count'] > 1]\n",
    "repeat_customer_ids = repeat_customers['customer_unique_id']\n",
    "\n",
    "# 4. 재구매 고객 주문 데이터만 추출\n",
    "repeat_customer_orders = customer_orders_df[customer_orders_df['customer_unique_id'].isin(repeat_customer_ids)].copy()\n",
    "\n",
    "# 5. order_purchase_timestamp 컬럼 datetime 변환\n",
    "repeat_customer_orders['order_purchase_timestamp'] = pd.to_datetime(repeat_customer_orders['order_purchase_timestamp'])\n",
    "\n",
    "# 6. 고객별 주문일 정렬\n",
    "repeat_customer_orders = repeat_customer_orders.sort_values(by=['customer_unique_id', 'order_purchase_timestamp'])\n",
    "\n",
    "# 7. 다음 주문일 생성\n",
    "repeat_customer_orders['next_purchase_date'] = repeat_customer_orders.groupby('customer_unique_id')['order_purchase_timestamp'].shift(-1)\n",
    "\n",
    "# 8. 구매 간격(일 단위) 계산\n",
    "repeat_customer_orders['days_to_next_purchase'] = (repeat_customer_orders['next_purchase_date'] - repeat_customer_orders['order_purchase_timestamp']).dt.days\n",
    "\n",
    "# 9. 결측치 제외하고 평균 구매 간격 계산\n",
    "average_days_to_next_purchase = repeat_customer_orders['days_to_next_purchase'].dropna().mean()\n",
    "\n",
    "print(f\"재구매 고객의 평균 다음 구매까지 걸리는 일수: {average_days_to_next_purchase:.2f}일\")\n",
    "\n",
    "\n"
   ],
   "id": "7010365f7b6420e4",
   "outputs": [
    {
     "name": "stdout",
     "output_type": "stream",
     "text": [
      "재구매 고객의 평균 다음 구매까지 걸리는 일수: 78.72일\n"
     ]
    }
   ],
   "execution_count": 30
  },
  {
   "metadata": {
    "ExecuteTime": {
     "end_time": "2025-06-02T02:54:27.554322Z",
     "start_time": "2025-06-02T02:54:27.535762Z"
    }
   },
   "cell_type": "code",
   "source": [
    "# 재구매 고객 데이터프레임 준비 (customer_unique_id와 order_count 포함)\n",
    "repeat_customers = customer_order_counts[customer_order_counts['order_count'] > 1]\n",
    "\n",
    "# CSV로 저장\n",
    "repeat_customers.to_csv('data/repeat_customers.csv', index=False)\n",
    "\n",
    "print(\"재구매 고객 목록이 repeat_customers.csv 파일로 저장되었습니다.\")\n"
   ],
   "id": "a38b8911dee814f0",
   "outputs": [
    {
     "name": "stdout",
     "output_type": "stream",
     "text": [
      "재구매 고객 목록이 repeat_customers.csv 파일로 저장되었습니다.\n"
     ]
    }
   ],
   "execution_count": 31
  },
  {
   "metadata": {
    "ExecuteTime": {
     "end_time": "2025-06-02T02:54:30.058801Z",
     "start_time": "2025-06-02T02:54:30.032488Z"
    }
   },
   "cell_type": "code",
   "source": [
    "repeat_df=pd.read_csv('data/repeat_customers.csv')\n",
    "repeat_df.columns"
   ],
   "id": "f235517d0682198c",
   "outputs": [
    {
     "data": {
      "text/plain": [
       "Index(['customer_unique_id', 'order_count'], dtype='object')"
      ]
     },
     "execution_count": 32,
     "metadata": {},
     "output_type": "execute_result"
    }
   ],
   "execution_count": 32
  },
  {
   "metadata": {
    "ExecuteTime": {
     "end_time": "2025-06-02T02:54:31.035064Z",
     "start_time": "2025-06-02T02:54:31.015677Z"
    }
   },
   "cell_type": "code",
   "source": "customers_df.columns",
   "id": "e431210ff373c816",
   "outputs": [
    {
     "data": {
      "text/plain": [
       "Index(['customer_id', 'customer_unique_id', 'customer_zip_code_prefix',\n",
       "       'customer_city', 'customer_state'],\n",
       "      dtype='object')"
      ]
     },
     "execution_count": 33,
     "metadata": {},
     "output_type": "execute_result"
    }
   ],
   "execution_count": 33
  },
  {
   "metadata": {
    "ExecuteTime": {
     "end_time": "2025-06-02T02:54:32.511338Z",
     "start_time": "2025-06-02T02:54:32.504984Z"
    }
   },
   "cell_type": "code",
   "source": "repeat_df.count()",
   "id": "1a27821cdc67c5e",
   "outputs": [
    {
     "data": {
      "text/plain": [
       "customer_unique_id    2800\n",
       "order_count           2800\n",
       "dtype: int64"
      ]
     },
     "execution_count": 34,
     "metadata": {},
     "output_type": "execute_result"
    }
   ],
   "execution_count": 34
  },
  {
   "metadata": {
    "ExecuteTime": {
     "end_time": "2025-06-02T02:54:34.308957Z",
     "start_time": "2025-06-02T02:54:34.299274Z"
    }
   },
   "cell_type": "code",
   "source": "repeat_df.isnull().sum()",
   "id": "fb90d5a1eacae70d",
   "outputs": [
    {
     "data": {
      "text/plain": [
       "customer_unique_id    0\n",
       "order_count           0\n",
       "dtype: int64"
      ]
     },
     "execution_count": 35,
     "metadata": {},
     "output_type": "execute_result"
    }
   ],
   "execution_count": 35
  },
  {
   "metadata": {
    "ExecuteTime": {
     "end_time": "2025-06-02T02:54:36.282925Z",
     "start_time": "2025-06-02T02:54:36.271136Z"
    }
   },
   "cell_type": "code",
   "source": "repeat_df.columns",
   "id": "80bdbfeb23776395",
   "outputs": [
    {
     "data": {
      "text/plain": [
       "Index(['customer_unique_id', 'order_count'], dtype='object')"
      ]
     },
     "execution_count": 36,
     "metadata": {},
     "output_type": "execute_result"
    }
   ],
   "execution_count": 36
  },
  {
   "metadata": {
    "ExecuteTime": {
     "end_time": "2025-06-02T02:54:43.502177Z",
     "start_time": "2025-06-02T02:54:43.028754Z"
    }
   },
   "cell_type": "code",
   "source": [
    "\n",
    "#리뷰가 높을수록 재구매율이 높은가?\"\n",
    "# 2️⃣ 고객-주문 병합\n",
    "orders_df = pd.merge(orders_df, customers_df[['customer_id', 'customer_unique_id']], on='customer_id', how='left')\n",
    "#\n",
    "# 3️⃣ 고객별 주문 개수\n",
    "order_counts = orders_df.groupby('customer_unique_id')['order_id'].nunique().reset_index(name='order_count')\n",
    "\n",
    "# 4️⃣ 주문-리뷰 병합\n",
    "orders_reviews_df = pd.merge(orders_df, order_reviews_df[['order_id', 'review_score']], on='order_id', how='left')\n",
    "\n",
    "# 5️⃣ 주문-리뷰-주문수 병합\n",
    "final_df = pd.merge(orders_reviews_df, order_counts, on='customer_unique_id', how='left')\n",
    "\n",
    "# 6️⃣ 재구매 여부\n",
    "final_df['is_repeat_customer'] = final_df['order_count'] > 1\n",
    "\n",
    "# 7️⃣ 리뷰 점수별 재구매 비율\n",
    "repeat_rate_by_score = final_df.groupby('review_score')['is_repeat_customer'].mean().reset_index()\n",
    "\n",
    "print(repeat_rate_by_score)\n"
   ],
   "id": "62d4f94fac61df97",
   "outputs": [
    {
     "name": "stdout",
     "output_type": "stream",
     "text": [
      "   review_score  is_repeat_customer\n",
      "0           1.0            0.060368\n",
      "1           2.0            0.062585\n",
      "2           3.0            0.064565\n",
      "3           4.0            0.058842\n",
      "4           5.0            0.068763\n"
     ]
    }
   ],
   "execution_count": 37
  },
  {
   "metadata": {
    "ExecuteTime": {
     "end_time": "2025-06-02T02:54:56.342956Z",
     "start_time": "2025-06-02T02:54:56.325801Z"
    }
   },
   "cell_type": "code",
   "source": "repeat_df",
   "id": "432d134f65b2f00b",
   "outputs": [
    {
     "data": {
      "text/plain": [
       "                    customer_unique_id  order_count\n",
       "0     004288347e5e88a27ded2bb23747066c            2\n",
       "1     00a39521eb40f7012db50455bf083460            2\n",
       "2     00cc12a6d8b578b8ebd21ea4e2ae8b27            2\n",
       "3     011575986092c30523ecb71ff10cb473            2\n",
       "4     011b4adcd54683b480c4d841250a987f            2\n",
       "...                                ...          ...\n",
       "2795  ff03923ad1eb9e32304deb7f9b2a45c9            2\n",
       "2796  ff44401d0d8f5b9c54a47374eb48c1b8            2\n",
       "2797  ff8892f7c26aa0446da53d01b18df463            2\n",
       "2798  ff922bdd6bafcdf99cb90d7f39cea5b3            3\n",
       "2799  ffe254cc039740e17dd15a5305035928            2\n",
       "\n",
       "[2800 rows x 2 columns]"
      ],
      "text/html": [
       "<div>\n",
       "<style scoped>\n",
       "    .dataframe tbody tr th:only-of-type {\n",
       "        vertical-align: middle;\n",
       "    }\n",
       "\n",
       "    .dataframe tbody tr th {\n",
       "        vertical-align: top;\n",
       "    }\n",
       "\n",
       "    .dataframe thead th {\n",
       "        text-align: right;\n",
       "    }\n",
       "</style>\n",
       "<table border=\"1\" class=\"dataframe\">\n",
       "  <thead>\n",
       "    <tr style=\"text-align: right;\">\n",
       "      <th></th>\n",
       "      <th>customer_unique_id</th>\n",
       "      <th>order_count</th>\n",
       "    </tr>\n",
       "  </thead>\n",
       "  <tbody>\n",
       "    <tr>\n",
       "      <th>0</th>\n",
       "      <td>004288347e5e88a27ded2bb23747066c</td>\n",
       "      <td>2</td>\n",
       "    </tr>\n",
       "    <tr>\n",
       "      <th>1</th>\n",
       "      <td>00a39521eb40f7012db50455bf083460</td>\n",
       "      <td>2</td>\n",
       "    </tr>\n",
       "    <tr>\n",
       "      <th>2</th>\n",
       "      <td>00cc12a6d8b578b8ebd21ea4e2ae8b27</td>\n",
       "      <td>2</td>\n",
       "    </tr>\n",
       "    <tr>\n",
       "      <th>3</th>\n",
       "      <td>011575986092c30523ecb71ff10cb473</td>\n",
       "      <td>2</td>\n",
       "    </tr>\n",
       "    <tr>\n",
       "      <th>4</th>\n",
       "      <td>011b4adcd54683b480c4d841250a987f</td>\n",
       "      <td>2</td>\n",
       "    </tr>\n",
       "    <tr>\n",
       "      <th>...</th>\n",
       "      <td>...</td>\n",
       "      <td>...</td>\n",
       "    </tr>\n",
       "    <tr>\n",
       "      <th>2795</th>\n",
       "      <td>ff03923ad1eb9e32304deb7f9b2a45c9</td>\n",
       "      <td>2</td>\n",
       "    </tr>\n",
       "    <tr>\n",
       "      <th>2796</th>\n",
       "      <td>ff44401d0d8f5b9c54a47374eb48c1b8</td>\n",
       "      <td>2</td>\n",
       "    </tr>\n",
       "    <tr>\n",
       "      <th>2797</th>\n",
       "      <td>ff8892f7c26aa0446da53d01b18df463</td>\n",
       "      <td>2</td>\n",
       "    </tr>\n",
       "    <tr>\n",
       "      <th>2798</th>\n",
       "      <td>ff922bdd6bafcdf99cb90d7f39cea5b3</td>\n",
       "      <td>3</td>\n",
       "    </tr>\n",
       "    <tr>\n",
       "      <th>2799</th>\n",
       "      <td>ffe254cc039740e17dd15a5305035928</td>\n",
       "      <td>2</td>\n",
       "    </tr>\n",
       "  </tbody>\n",
       "</table>\n",
       "<p>2800 rows × 2 columns</p>\n",
       "</div>"
      ]
     },
     "execution_count": 38,
     "metadata": {},
     "output_type": "execute_result"
    }
   ],
   "execution_count": 38
  },
  {
   "metadata": {
    "ExecuteTime": {
     "end_time": "2025-06-02T02:55:28.930415Z",
     "start_time": "2025-06-02T02:55:28.741625Z"
    }
   },
   "cell_type": "code",
   "source": [
    "# 먼저 merged_df 만들기 (repeat_df + customers_df)\n",
    "merged_df = pd.merge(repeat_df, customers_df, on='customer_unique_id', how='left')\n",
    "\n",
    "\n",
    "\n",
    "# merged_df와 orders_df를 customer_id 기준으로 병합\n",
    "final_df = pd.merge(merged_df, orders_df, on='customer_id', how='left')\n",
    "\n",
    "\n",
    "\n",
    "# final_df와 order_items_df를 order_id 기준으로 병합\n",
    "final_df = pd.merge(final_df, order_items_df, on='order_id', how='left')\n",
    "\n",
    "\n",
    "\n",
    "final_df = pd.merge(final_df, order_reviews_df, on='order_id', how='left')\n",
    "\n",
    "\n",
    "\n",
    "final_df = pd.merge(final_df, products_df, on='product_id', how='left')\n",
    "\n",
    "final_df=pd.merge(final_df,trans_df,on='product_category_name',how='left')"
   ],
   "id": "7ac6ea78c9aa266",
   "outputs": [],
   "execution_count": 39
  },
  {
   "metadata": {
    "ExecuteTime": {
     "end_time": "2025-06-02T02:55:37.205172Z",
     "start_time": "2025-06-02T02:55:37.179062Z"
    }
   },
   "cell_type": "code",
   "source": [
    "# datetime 타입으로 변환\n",
    "final_df['order_approved_at'] = pd.to_datetime(final_df['order_approved_at'])\n",
    "final_df['order_delivered_customer_date'] = pd.to_datetime(final_df['order_delivered_customer_date'])\n",
    "\n",
    "# 배송 기간(일) 계산 (배송 완료일 - 주문 승인일)\n",
    "final_df['delivery_duration_days'] = (final_df['order_delivered_customer_date'] - final_df['order_approved_at']).dt.days\n",
    "\n",
    "# 결과 확인\n",
    "print(final_df[['order_approved_at', 'order_delivered_customer_date', 'delivery_duration_days']].head())\n"
   ],
   "id": "82f3a23f711cd392",
   "outputs": [
    {
     "name": "stdout",
     "output_type": "stream",
     "text": [
      "    order_approved_at order_delivered_customer_date  delivery_duration_days\n",
      "0 2017-07-27 14:25:14           2017-08-04 16:26:54                     8.0\n",
      "1 2018-01-14 07:49:28           2018-01-19 22:14:14                     5.0\n",
      "2 2018-05-23 20:35:15           2018-06-11 20:41:33                    19.0\n",
      "3 2018-06-03 10:50:00           2018-06-19 16:04:46                    16.0\n",
      "4 2017-03-21 19:25:23           2017-03-28 14:54:11                     6.0\n"
     ]
    }
   ],
   "execution_count": 40
  },
  {
   "metadata": {
    "ExecuteTime": {
     "end_time": "2025-06-02T02:55:48.974423Z",
     "start_time": "2025-06-02T02:55:48.951558Z"
    }
   },
   "cell_type": "code",
   "source": "final_df.isnull().sum()",
   "id": "d4aaa522a8f82b6e",
   "outputs": [
    {
     "data": {
      "text/plain": [
       "customer_unique_id_x                 0\n",
       "order_count                          0\n",
       "customer_id                          0\n",
       "customer_zip_code_prefix             0\n",
       "customer_city                        0\n",
       "customer_state                       0\n",
       "order_id                            22\n",
       "order_status                        22\n",
       "order_purchase_timestamp            22\n",
       "order_approved_at                   22\n",
       "order_delivered_carrier_date        22\n",
       "order_delivered_customer_date       22\n",
       "order_estimated_delivery_date       22\n",
       "delivery_time_days                  22\n",
       "order_month                         22\n",
       "customer_unique_id_y                22\n",
       "order_item_id                       22\n",
       "product_id                          22\n",
       "seller_id                           22\n",
       "shipping_limit_date                 22\n",
       "price                               22\n",
       "freight_value                       22\n",
       "review_id                           99\n",
       "review_score                        99\n",
       "review_creation_date                99\n",
       "review_answer_timestamp             99\n",
       "product_category_name              116\n",
       "product_photos_qty                 116\n",
       "product_category_name_english_x    117\n",
       "product_category_name_english_y    117\n",
       "delivery_duration_days              22\n",
       "dtype: int64"
      ]
     },
     "execution_count": 41,
     "metadata": {},
     "output_type": "execute_result"
    }
   ],
   "execution_count": 41
  },
  {
   "metadata": {
    "ExecuteTime": {
     "end_time": "2025-06-02T02:55:52.315711Z",
     "start_time": "2025-06-02T02:55:52.293180Z"
    }
   },
   "cell_type": "code",
   "source": "final_df=final_df.dropna()",
   "id": "b07801c01ee09d57",
   "outputs": [],
   "execution_count": 42
  },
  {
   "metadata": {
    "ExecuteTime": {
     "end_time": "2025-06-02T02:55:56.763312Z",
     "start_time": "2025-06-02T02:55:56.731892Z"
    }
   },
   "cell_type": "code",
   "source": "final_df.isnull().sum()",
   "id": "b34ffb88654858cc",
   "outputs": [
    {
     "data": {
      "text/plain": [
       "customer_unique_id_x               0\n",
       "order_count                        0\n",
       "customer_id                        0\n",
       "customer_zip_code_prefix           0\n",
       "customer_city                      0\n",
       "customer_state                     0\n",
       "order_id                           0\n",
       "order_status                       0\n",
       "order_purchase_timestamp           0\n",
       "order_approved_at                  0\n",
       "order_delivered_carrier_date       0\n",
       "order_delivered_customer_date      0\n",
       "order_estimated_delivery_date      0\n",
       "delivery_time_days                 0\n",
       "order_month                        0\n",
       "customer_unique_id_y               0\n",
       "order_item_id                      0\n",
       "product_id                         0\n",
       "seller_id                          0\n",
       "shipping_limit_date                0\n",
       "price                              0\n",
       "freight_value                      0\n",
       "review_id                          0\n",
       "review_score                       0\n",
       "review_creation_date               0\n",
       "review_answer_timestamp            0\n",
       "product_category_name              0\n",
       "product_photos_qty                 0\n",
       "product_category_name_english_x    0\n",
       "product_category_name_english_y    0\n",
       "delivery_duration_days             0\n",
       "dtype: int64"
      ]
     },
     "execution_count": 43,
     "metadata": {},
     "output_type": "execute_result"
    }
   ],
   "execution_count": 43
  },
  {
   "metadata": {
    "ExecuteTime": {
     "end_time": "2025-06-02T02:56:02.791458Z",
     "start_time": "2025-06-02T02:56:02.656852Z"
    }
   },
   "cell_type": "code",
   "source": [
    "final_df.to_csv('data/final_merged_with_delivery_duration.csv', index=False)\n",
    "print(\"CSV 파일 저장 완료! 파일명: final_merged_with_delivery_duration.csv\")\n"
   ],
   "id": "f818868a687c692",
   "outputs": [
    {
     "name": "stdout",
     "output_type": "stream",
     "text": [
      "CSV 파일 저장 완료! 파일명: final_merged_with_delivery_duration.csv\n"
     ]
    }
   ],
   "execution_count": 44
  },
  {
   "metadata": {
    "ExecuteTime": {
     "end_time": "2025-06-02T02:56:09.213986Z",
     "start_time": "2025-06-02T02:56:09.137172Z"
    }
   },
   "cell_type": "code",
   "source": [
    "real_final_df=pd.read_csv('data/final_merged_with_delivery_duration.csv')\n",
    "real_final_df.columns"
   ],
   "id": "2aca8431778512f2",
   "outputs": [
    {
     "data": {
      "text/plain": [
       "Index(['customer_unique_id_x', 'order_count', 'customer_id',\n",
       "       'customer_zip_code_prefix', 'customer_city', 'customer_state',\n",
       "       'order_id', 'order_status', 'order_purchase_timestamp',\n",
       "       'order_approved_at', 'order_delivered_carrier_date',\n",
       "       'order_delivered_customer_date', 'order_estimated_delivery_date',\n",
       "       'delivery_time_days', 'order_month', 'customer_unique_id_y',\n",
       "       'order_item_id', 'product_id', 'seller_id', 'shipping_limit_date',\n",
       "       'price', 'freight_value', 'review_id', 'review_score',\n",
       "       'review_creation_date', 'review_answer_timestamp',\n",
       "       'product_category_name', 'product_photos_qty',\n",
       "       'product_category_name_english_x', 'product_category_name_english_y',\n",
       "       'delivery_duration_days'],\n",
       "      dtype='object')"
      ]
     },
     "execution_count": 45,
     "metadata": {},
     "output_type": "execute_result"
    }
   ],
   "execution_count": 45
  },
  {
   "metadata": {},
   "cell_type": "markdown",
   "source": "",
   "id": "6342616102e2c964"
  },
  {
   "metadata": {
    "ExecuteTime": {
     "end_time": "2025-06-02T02:56:42.719013Z",
     "start_time": "2025-06-02T02:56:42.706485Z"
    }
   },
   "cell_type": "code",
   "source": "real_final_df.count()",
   "id": "cfe23dafc4b3a120",
   "outputs": [
    {
     "data": {
      "text/plain": [
       "customer_unique_id_x               7581\n",
       "order_count                        7581\n",
       "customer_id                        7581\n",
       "customer_zip_code_prefix           7581\n",
       "customer_city                      7581\n",
       "customer_state                     7581\n",
       "order_id                           7581\n",
       "order_status                       7581\n",
       "order_purchase_timestamp           7581\n",
       "order_approved_at                  7581\n",
       "order_delivered_carrier_date       7581\n",
       "order_delivered_customer_date      7581\n",
       "order_estimated_delivery_date      7581\n",
       "delivery_time_days                 7581\n",
       "order_month                        7581\n",
       "customer_unique_id_y               7581\n",
       "order_item_id                      7581\n",
       "product_id                         7581\n",
       "seller_id                          7581\n",
       "shipping_limit_date                7581\n",
       "price                              7581\n",
       "freight_value                      7581\n",
       "review_id                          7581\n",
       "review_score                       7581\n",
       "review_creation_date               7581\n",
       "review_answer_timestamp            7581\n",
       "product_category_name              7581\n",
       "product_photos_qty                 7581\n",
       "product_category_name_english_x    7581\n",
       "product_category_name_english_y    7581\n",
       "delivery_duration_days             7581\n",
       "dtype: int64"
      ]
     },
     "execution_count": 49,
     "metadata": {},
     "output_type": "execute_result"
    }
   ],
   "execution_count": 49
  },
  {
   "metadata": {},
   "cell_type": "markdown",
   "source": "# XGBoost 모델링",
   "id": "eeb0787de1376272"
  },
  {
   "metadata": {
    "ExecuteTime": {
     "end_time": "2025-06-02T02:57:02.131399Z",
     "start_time": "2025-06-02T02:57:02.104913Z"
    }
   },
   "cell_type": "code",
   "source": [
    "# 1️⃣ order_purchase_timestamp 컬럼 datetime으로 변환\n",
    "real_final_df['order_purchase_timestamp'] = pd.to_datetime(real_final_df['order_purchase_timestamp'])\n",
    "\n",
    "# 2️⃣ 고객별로 구매일 정렬\n",
    "real_final_df.sort_values(by=['customer_unique_id_x', 'order_purchase_timestamp'], inplace=True)\n",
    "\n",
    "# 3️⃣ 다음 구매일 생성 (shift(-1))\n",
    "real_final_df['next_purchase_date'] = real_final_df.groupby('customer_unique_id_x')['order_purchase_timestamp'].shift(-1)\n",
    "\n",
    "# 4️⃣ 다음 구매까지 걸린 일수 계산\n",
    "real_final_df['days_to_next_purchase'] = (\n",
    "    real_final_df['next_purchase_date'] - real_final_df['order_purchase_timestamp']\n",
    ").dt.days\n",
    "\n",
    "# 5️⃣ 결측치 제거 (NaN 행 삭제)\n",
    "real_final_df.dropna(subset=['days_to_next_purchase'], inplace=True)\n",
    "\n",
    "# 6️⃣ 결과 확인 (앞부분)\n",
    "print(real_final_df[['customer_unique_id_x', 'order_purchase_timestamp', 'next_purchase_date', 'days_to_next_purchase']].head(10))\n",
    "\n",
    "# 7️⃣ 저장 (선택사항)\n",
    "# real_final_df.to_csv('data/final_with_days_to_next_purchase_no_nan.csv', index=False)\n"
   ],
   "id": "f5e44abe01bd895d",
   "outputs": [
    {
     "name": "stdout",
     "output_type": "stream",
     "text": [
      "                customer_unique_id_x order_purchase_timestamp  \\\n",
      "0   004288347e5e88a27ded2bb23747066c      2017-07-27 14:13:03   \n",
      "2   00a39521eb40f7012db50455bf083460      2018-05-23 20:14:21   \n",
      "6   00cc12a6d8b578b8ebd21ea4e2ae8b27      2017-03-21 19:25:22   \n",
      "7   00cc12a6d8b578b8ebd21ea4e2ae8b27      2017-03-21 19:25:22   \n",
      "4   00cc12a6d8b578b8ebd21ea4e2ae8b27      2017-03-21 19:25:23   \n",
      "9   011575986092c30523ecb71ff10cb473      2018-02-17 15:54:49   \n",
      "12  011b4adcd54683b480c4d841250a987f      2017-08-22 12:51:29   \n",
      "10  011b4adcd54683b480c4d841250a987f      2018-02-15 11:40:57   \n",
      "14  012452d40dafae4df401bced74cdb490      2017-06-18 22:46:42   \n",
      "16  012a218df8995d3ec3bb221828360c86      2018-05-07 10:28:17   \n",
      "\n",
      "    next_purchase_date  days_to_next_purchase  \n",
      "0  2018-01-14 07:36:54                  170.0  \n",
      "2  2018-06-03 10:12:57                   10.0  \n",
      "6  2017-03-21 19:25:22                    0.0  \n",
      "7  2017-03-21 19:25:23                    0.0  \n",
      "4  2017-03-21 19:25:23                    0.0  \n",
      "9  2018-04-18 21:58:08                   60.0  \n",
      "12 2018-02-15 11:40:57                  176.0  \n",
      "10 2018-02-15 11:40:57                    0.0  \n",
      "14 2018-05-14 12:12:45                  329.0  \n",
      "16 2018-06-18 13:08:38                   42.0  \n"
     ]
    }
   ],
   "execution_count": 50
  },
  {
   "metadata": {
    "ExecuteTime": {
     "end_time": "2025-06-02T02:57:14.949081Z",
     "start_time": "2025-06-02T02:57:14.931507Z"
    }
   },
   "cell_type": "code",
   "source": [
    "# 8️⃣ days_to_next_purchase가 120일 이상이면 이탈자로 판단하여 churn 컬럼 생성\n",
    "real_final_df['churn'] = real_final_df['days_to_next_purchase'].apply(lambda x: 1 if x >=120  else 0)\n",
    "\n",
    "# 9️⃣ 결과 확인\n",
    "print(real_final_df[['customer_unique_id_x', 'days_to_next_purchase', 'churn']].head(10))\n",
    "\n",
    "# 10️⃣ 저장 (선택사항)\n",
    "# real_final_df.to_csv('data/final_with_days_to_next_purchase_churn.csv', index=False)\n"
   ],
   "id": "dd99ba64a9e221d3",
   "outputs": [
    {
     "name": "stdout",
     "output_type": "stream",
     "text": [
      "                customer_unique_id_x  days_to_next_purchase  churn\n",
      "0   004288347e5e88a27ded2bb23747066c                  170.0      1\n",
      "2   00a39521eb40f7012db50455bf083460                   10.0      0\n",
      "6   00cc12a6d8b578b8ebd21ea4e2ae8b27                    0.0      0\n",
      "7   00cc12a6d8b578b8ebd21ea4e2ae8b27                    0.0      0\n",
      "4   00cc12a6d8b578b8ebd21ea4e2ae8b27                    0.0      0\n",
      "9   011575986092c30523ecb71ff10cb473                   60.0      0\n",
      "12  011b4adcd54683b480c4d841250a987f                  176.0      1\n",
      "10  011b4adcd54683b480c4d841250a987f                    0.0      0\n",
      "14  012452d40dafae4df401bced74cdb490                  329.0      1\n",
      "16  012a218df8995d3ec3bb221828360c86                   42.0      0\n"
     ]
    }
   ],
   "execution_count": 51
  },
  {
   "metadata": {
    "ExecuteTime": {
     "end_time": "2025-06-02T03:01:49.086947Z",
     "start_time": "2025-06-02T03:01:49.073763Z"
    }
   },
   "cell_type": "code",
   "source": [
    "\n",
    "\n",
    "print(real_final_df.count())\n",
    "print(real_final_df['churn'].value_counts())"
   ],
   "id": "d8a3b509f4b90f5",
   "outputs": [
    {
     "name": "stdout",
     "output_type": "stream",
     "text": [
      "customer_unique_id_x               4795\n",
      "order_count                        4795\n",
      "customer_id                        4795\n",
      "customer_zip_code_prefix           4795\n",
      "customer_city                      4795\n",
      "customer_state                     4795\n",
      "order_id                           4795\n",
      "order_status                       4795\n",
      "order_purchase_timestamp           4795\n",
      "order_approved_at                  4795\n",
      "order_delivered_carrier_date       4795\n",
      "order_delivered_customer_date      4795\n",
      "order_estimated_delivery_date      4795\n",
      "delivery_time_days                 4795\n",
      "order_month                        4795\n",
      "customer_unique_id_y               4795\n",
      "order_item_id                      4795\n",
      "product_id                         4795\n",
      "seller_id                          4795\n",
      "shipping_limit_date                4795\n",
      "price                              4795\n",
      "freight_value                      4795\n",
      "review_id                          4795\n",
      "review_score                       4795\n",
      "review_creation_date               4795\n",
      "review_answer_timestamp            4795\n",
      "product_category_name              4795\n",
      "product_photos_qty                 4795\n",
      "product_category_name_english_x    4795\n",
      "product_category_name_english_y    4795\n",
      "delivery_duration_days             4795\n",
      "next_purchase_date                 4795\n",
      "days_to_next_purchase              4795\n",
      "churn                              4795\n",
      "dtype: int64\n",
      "churn\n",
      "0    4035\n",
      "1     760\n",
      "Name: count, dtype: int64\n"
     ]
    }
   ],
   "execution_count": 58
  },
  {
   "metadata": {
    "ExecuteTime": {
     "end_time": "2025-06-02T02:58:02.108787Z",
     "start_time": "2025-06-02T02:58:00.829170Z"
    }
   },
   "cell_type": "code",
   "source": [
    "from xgboost import XGBClassifier\n",
    "from sklearn.model_selection import train_test_split\n",
    "from sklearn.metrics import classification_report, accuracy_score\n",
    "\n",
    "# 1) feature, target 설정\n",
    "features = ['order_count', 'review_score', 'price', 'freight_value', 'delivery_duration_days']\n",
    "X = real_final_df[features]\n",
    "y = real_final_df['churn']\n",
    "\n",
    "# 2) train/test 나누기 (test 20%)\n",
    "X_train, X_test, y_train, y_test = train_test_split(\n",
    "    X, y, test_size=0.2, random_state=42, stratify=y\n",
    ")\n",
    "\n",
    "# 3) train/validation 나누기 (validation 10%)\n",
    "X_tr, X_val, y_tr, y_val = train_test_split(\n",
    "    X_train, y_train, test_size=0.1, random_state=42, stratify=y_train\n",
    ")\n",
    "\n",
    "from xgboost import XGBClassifier\n",
    "\n",
    "# 양성 클래스 비율 계산\n",
    "num_neg = (y_train == 0).sum()\n",
    "num_pos = (y_train == 1).sum()\n",
    "scale_pos_weight = num_neg / num_pos  # 불균형 비율\n",
    "\n",
    "xgb_clf = XGBClassifier(\n",
    "    n_estimators=1000,\n",
    "    learning_rate=0.01,\n",
    "    max_depth=5,\n",
    "    eval_metric='logloss',\n",
    "    use_label_encoder=False,\n",
    "    early_stopping_rounds=10,\n",
    "    scale_pos_weight=scale_pos_weight  # 클래스 불균형 보정\n",
    ")\n",
    "\n",
    "xgb_clf.fit(\n",
    "    X_tr, y_tr,\n",
    "    eval_set=[(X_val, y_val)],\n",
    "    verbose=True\n",
    ")\n",
    "\n",
    "# 5) 테스트 데이터 예측 및 평가\n",
    "y_pred = xgb_clf.predict(X_test)\n",
    "\n",
    "print(\"Accuracy:\", accuracy_score(y_test, y_pred))\n",
    "print(\"\\nClassification Report:\\n\", classification_report(y_test, y_pred))\n"
   ],
   "id": "8b19c3c6d522ddc9",
   "outputs": [
    {
     "name": "stdout",
     "output_type": "stream",
     "text": [
      "[0]\tvalidation_0-logloss:0.69227\n",
      "[1]\tvalidation_0-logloss:0.69150\n",
      "[2]\tvalidation_0-logloss:0.69076\n",
      "[3]\tvalidation_0-logloss:0.69004\n",
      "[4]\tvalidation_0-logloss:0.68933\n",
      "[5]\tvalidation_0-logloss:0.68859\n",
      "[6]\tvalidation_0-logloss:0.68791\n",
      "[7]\tvalidation_0-logloss:0.68721\n",
      "[8]\tvalidation_0-logloss:0.68657\n",
      "[9]\tvalidation_0-logloss:0.68590\n",
      "[10]\tvalidation_0-logloss:0.68529\n",
      "[11]\tvalidation_0-logloss:0.68465\n",
      "[12]\tvalidation_0-logloss:0.68407\n",
      "[13]\tvalidation_0-logloss:0.68345\n",
      "[14]\tvalidation_0-logloss:0.68284\n",
      "[15]\tvalidation_0-logloss:0.68225\n",
      "[16]\tvalidation_0-logloss:0.68167\n",
      "[17]\tvalidation_0-logloss:0.68110\n",
      "[18]\tvalidation_0-logloss:0.68058\n",
      "[19]\tvalidation_0-logloss:0.68021\n",
      "[20]\tvalidation_0-logloss:0.67971\n",
      "[21]\tvalidation_0-logloss:0.67937\n",
      "[22]\tvalidation_0-logloss:0.67885\n",
      "[23]\tvalidation_0-logloss:0.67852\n",
      "[24]\tvalidation_0-logloss:0.67808\n",
      "[25]\tvalidation_0-logloss:0.67777\n",
      "[26]\tvalidation_0-logloss:0.67732\n",
      "[27]\tvalidation_0-logloss:0.67700\n",
      "[28]\tvalidation_0-logloss:0.67660\n",
      "[29]\tvalidation_0-logloss:0.67632\n",
      "[30]\tvalidation_0-logloss:0.67590\n",
      "[31]\tvalidation_0-logloss:0.67549\n",
      "[32]\tvalidation_0-logloss:0.67508\n",
      "[33]\tvalidation_0-logloss:0.67467\n",
      "[34]\tvalidation_0-logloss:0.67431\n",
      "[35]\tvalidation_0-logloss:0.67393\n",
      "[36]\tvalidation_0-logloss:0.67355\n",
      "[37]\tvalidation_0-logloss:0.67319\n",
      "[38]\tvalidation_0-logloss:0.67286\n",
      "[39]\tvalidation_0-logloss:0.67248\n",
      "[40]\tvalidation_0-logloss:0.67213\n",
      "[41]\tvalidation_0-logloss:0.67177\n",
      "[42]\tvalidation_0-logloss:0.67143\n",
      "[43]\tvalidation_0-logloss:0.67113\n",
      "[44]\tvalidation_0-logloss:0.67080\n",
      "[45]\tvalidation_0-logloss:0.67050\n",
      "[46]\tvalidation_0-logloss:0.67016\n",
      "[47]\tvalidation_0-logloss:0.66990\n",
      "[48]\tvalidation_0-logloss:0.66958\n",
      "[49]\tvalidation_0-logloss:0.66934\n",
      "[50]\tvalidation_0-logloss:0.66902\n",
      "[51]\tvalidation_0-logloss:0.66878\n",
      "[52]\tvalidation_0-logloss:0.66859\n",
      "[53]\tvalidation_0-logloss:0.66829\n",
      "[54]\tvalidation_0-logloss:0.66807\n",
      "[55]\tvalidation_0-logloss:0.66786\n",
      "[56]\tvalidation_0-logloss:0.66765\n",
      "[57]\tvalidation_0-logloss:0.66739\n",
      "[58]\tvalidation_0-logloss:0.66719\n",
      "[59]\tvalidation_0-logloss:0.66695\n",
      "[60]\tvalidation_0-logloss:0.66677\n",
      "[61]\tvalidation_0-logloss:0.66655\n",
      "[62]\tvalidation_0-logloss:0.66637\n",
      "[63]\tvalidation_0-logloss:0.66611\n",
      "[64]\tvalidation_0-logloss:0.66593\n",
      "[65]\tvalidation_0-logloss:0.66576\n",
      "[66]\tvalidation_0-logloss:0.66559\n",
      "[67]\tvalidation_0-logloss:0.66544\n",
      "[68]\tvalidation_0-logloss:0.66524\n",
      "[69]\tvalidation_0-logloss:0.66510\n",
      "[70]\tvalidation_0-logloss:0.66490\n",
      "[71]\tvalidation_0-logloss:0.66477\n",
      "[72]\tvalidation_0-logloss:0.66459\n",
      "[73]\tvalidation_0-logloss:0.66446\n",
      "[74]\tvalidation_0-logloss:0.66427\n",
      "[75]\tvalidation_0-logloss:0.66414\n",
      "[76]\tvalidation_0-logloss:0.66394\n",
      "[77]\tvalidation_0-logloss:0.66383\n",
      "[78]\tvalidation_0-logloss:0.66365\n",
      "[79]\tvalidation_0-logloss:0.66353\n",
      "[80]\tvalidation_0-logloss:0.66334\n",
      "[81]\tvalidation_0-logloss:0.66323\n",
      "[82]\tvalidation_0-logloss:0.66305\n",
      "[83]\tvalidation_0-logloss:0.66295\n",
      "[84]\tvalidation_0-logloss:0.66276\n",
      "[85]\tvalidation_0-logloss:0.66266\n",
      "[86]\tvalidation_0-logloss:0.66249\n",
      "[87]\tvalidation_0-logloss:0.66239\n",
      "[88]\tvalidation_0-logloss:0.66228\n",
      "[89]\tvalidation_0-logloss:0.66220\n",
      "[90]\tvalidation_0-logloss:0.66208\n",
      "[91]\tvalidation_0-logloss:0.66191\n",
      "[92]\tvalidation_0-logloss:0.66183\n",
      "[93]\tvalidation_0-logloss:0.66166\n",
      "[94]\tvalidation_0-logloss:0.66157\n",
      "[95]\tvalidation_0-logloss:0.66144\n",
      "[96]\tvalidation_0-logloss:0.66131\n",
      "[97]\tvalidation_0-logloss:0.66125\n",
      "[98]\tvalidation_0-logloss:0.66116\n",
      "[99]\tvalidation_0-logloss:0.66104\n",
      "[100]\tvalidation_0-logloss:0.66096\n"
     ]
    },
    {
     "name": "stderr",
     "output_type": "stream",
     "text": [
      "C:\\Users\\Playdata2\\miniconda3\\envs\\ai_basic_env\\Lib\\site-packages\\xgboost\\callback.py:386: UserWarning: [11:58:01] WARNING: C:\\actions-runner\\_work\\xgboost\\xgboost\\src\\learner.cc:738: \n",
      "Parameters: { \"use_label_encoder\" } are not used.\n",
      "\n",
      "  self.starting_round = model.num_boosted_rounds()\n"
     ]
    },
    {
     "name": "stdout",
     "output_type": "stream",
     "text": [
      "[101]\tvalidation_0-logloss:0.66086\n",
      "[102]\tvalidation_0-logloss:0.66074\n",
      "[103]\tvalidation_0-logloss:0.66062\n",
      "[104]\tvalidation_0-logloss:0.66057\n",
      "[105]\tvalidation_0-logloss:0.66039\n",
      "[106]\tvalidation_0-logloss:0.66032\n",
      "[107]\tvalidation_0-logloss:0.66009\n",
      "[108]\tvalidation_0-logloss:0.65992\n",
      "[109]\tvalidation_0-logloss:0.65982\n",
      "[110]\tvalidation_0-logloss:0.65961\n",
      "[111]\tvalidation_0-logloss:0.65945\n",
      "[112]\tvalidation_0-logloss:0.65939\n",
      "[113]\tvalidation_0-logloss:0.65918\n",
      "[114]\tvalidation_0-logloss:0.65905\n",
      "[115]\tvalidation_0-logloss:0.65897\n",
      "[116]\tvalidation_0-logloss:0.65879\n",
      "[117]\tvalidation_0-logloss:0.65867\n",
      "[118]\tvalidation_0-logloss:0.65860\n",
      "[119]\tvalidation_0-logloss:0.65841\n",
      "[120]\tvalidation_0-logloss:0.65831\n",
      "[121]\tvalidation_0-logloss:0.65824\n",
      "[122]\tvalidation_0-logloss:0.65794\n",
      "[123]\tvalidation_0-logloss:0.65783\n",
      "[124]\tvalidation_0-logloss:0.65771\n",
      "[125]\tvalidation_0-logloss:0.65740\n",
      "[126]\tvalidation_0-logloss:0.65735\n",
      "[127]\tvalidation_0-logloss:0.65725\n",
      "[128]\tvalidation_0-logloss:0.65722\n",
      "[129]\tvalidation_0-logloss:0.65692\n",
      "[130]\tvalidation_0-logloss:0.65682\n",
      "[131]\tvalidation_0-logloss:0.65678\n",
      "[132]\tvalidation_0-logloss:0.65649\n",
      "[133]\tvalidation_0-logloss:0.65641\n",
      "[134]\tvalidation_0-logloss:0.65639\n",
      "[135]\tvalidation_0-logloss:0.65631\n",
      "[136]\tvalidation_0-logloss:0.65631\n",
      "[137]\tvalidation_0-logloss:0.65603\n",
      "[138]\tvalidation_0-logloss:0.65587\n",
      "[139]\tvalidation_0-logloss:0.65566\n",
      "[140]\tvalidation_0-logloss:0.65559\n",
      "[141]\tvalidation_0-logloss:0.65545\n",
      "[142]\tvalidation_0-logloss:0.65539\n",
      "[143]\tvalidation_0-logloss:0.65528\n",
      "[144]\tvalidation_0-logloss:0.65516\n",
      "[145]\tvalidation_0-logloss:0.65505\n",
      "[146]\tvalidation_0-logloss:0.65496\n",
      "[147]\tvalidation_0-logloss:0.65485\n",
      "[148]\tvalidation_0-logloss:0.65479\n",
      "[149]\tvalidation_0-logloss:0.65465\n",
      "[150]\tvalidation_0-logloss:0.65451\n",
      "[151]\tvalidation_0-logloss:0.65441\n",
      "[152]\tvalidation_0-logloss:0.65420\n",
      "[153]\tvalidation_0-logloss:0.65414\n",
      "[154]\tvalidation_0-logloss:0.65404\n",
      "[155]\tvalidation_0-logloss:0.65395\n",
      "[156]\tvalidation_0-logloss:0.65382\n",
      "[157]\tvalidation_0-logloss:0.65376\n",
      "[158]\tvalidation_0-logloss:0.65366\n",
      "[159]\tvalidation_0-logloss:0.65348\n",
      "[160]\tvalidation_0-logloss:0.65339\n",
      "[161]\tvalidation_0-logloss:0.65341\n",
      "[162]\tvalidation_0-logloss:0.65334\n",
      "[163]\tvalidation_0-logloss:0.65322\n",
      "[164]\tvalidation_0-logloss:0.65313\n",
      "[165]\tvalidation_0-logloss:0.65300\n",
      "[166]\tvalidation_0-logloss:0.65292\n",
      "[167]\tvalidation_0-logloss:0.65287\n",
      "[168]\tvalidation_0-logloss:0.65281\n",
      "[169]\tvalidation_0-logloss:0.65268\n",
      "[170]\tvalidation_0-logloss:0.65270\n",
      "[171]\tvalidation_0-logloss:0.65262\n",
      "[172]\tvalidation_0-logloss:0.65248\n",
      "[173]\tvalidation_0-logloss:0.65243\n",
      "[174]\tvalidation_0-logloss:0.65234\n",
      "[175]\tvalidation_0-logloss:0.65220\n",
      "[176]\tvalidation_0-logloss:0.65221\n",
      "[177]\tvalidation_0-logloss:0.65212\n",
      "[178]\tvalidation_0-logloss:0.65201\n",
      "[179]\tvalidation_0-logloss:0.65197\n",
      "[180]\tvalidation_0-logloss:0.65189\n",
      "[181]\tvalidation_0-logloss:0.65177\n",
      "[182]\tvalidation_0-logloss:0.65171\n",
      "[183]\tvalidation_0-logloss:0.65162\n",
      "[184]\tvalidation_0-logloss:0.65154\n",
      "[185]\tvalidation_0-logloss:0.65138\n",
      "[186]\tvalidation_0-logloss:0.65141\n",
      "[187]\tvalidation_0-logloss:0.65133\n",
      "[188]\tvalidation_0-logloss:0.65120\n",
      "[189]\tvalidation_0-logloss:0.65114\n",
      "[190]\tvalidation_0-logloss:0.65108\n",
      "[191]\tvalidation_0-logloss:0.65102\n",
      "[192]\tvalidation_0-logloss:0.65082\n",
      "[193]\tvalidation_0-logloss:0.65074\n",
      "[194]\tvalidation_0-logloss:0.65067\n",
      "[195]\tvalidation_0-logloss:0.65044\n",
      "[196]\tvalidation_0-logloss:0.65040\n",
      "[197]\tvalidation_0-logloss:0.65030\n",
      "[198]\tvalidation_0-logloss:0.65010\n",
      "[199]\tvalidation_0-logloss:0.65008\n",
      "[200]\tvalidation_0-logloss:0.64998\n",
      "[201]\tvalidation_0-logloss:0.64993\n",
      "[202]\tvalidation_0-logloss:0.64986\n",
      "[203]\tvalidation_0-logloss:0.64973\n",
      "[204]\tvalidation_0-logloss:0.64969\n",
      "[205]\tvalidation_0-logloss:0.64959\n",
      "[206]\tvalidation_0-logloss:0.64943\n",
      "[207]\tvalidation_0-logloss:0.64944\n",
      "[208]\tvalidation_0-logloss:0.64935\n",
      "[209]\tvalidation_0-logloss:0.64927\n",
      "[210]\tvalidation_0-logloss:0.64916\n",
      "[211]\tvalidation_0-logloss:0.64906\n",
      "[212]\tvalidation_0-logloss:0.64909\n",
      "[213]\tvalidation_0-logloss:0.64902\n",
      "[214]\tvalidation_0-logloss:0.64894\n",
      "[215]\tvalidation_0-logloss:0.64877\n",
      "[216]\tvalidation_0-logloss:0.64866\n",
      "[217]\tvalidation_0-logloss:0.64864\n",
      "[218]\tvalidation_0-logloss:0.64856\n",
      "[219]\tvalidation_0-logloss:0.64846\n",
      "[220]\tvalidation_0-logloss:0.64841\n",
      "[221]\tvalidation_0-logloss:0.64833\n",
      "[222]\tvalidation_0-logloss:0.64836\n",
      "[223]\tvalidation_0-logloss:0.64825\n",
      "[224]\tvalidation_0-logloss:0.64823\n",
      "[225]\tvalidation_0-logloss:0.64813\n",
      "[226]\tvalidation_0-logloss:0.64806\n",
      "[227]\tvalidation_0-logloss:0.64810\n",
      "[228]\tvalidation_0-logloss:0.64808\n",
      "[229]\tvalidation_0-logloss:0.64805\n",
      "[230]\tvalidation_0-logloss:0.64798\n",
      "[231]\tvalidation_0-logloss:0.64791\n",
      "[232]\tvalidation_0-logloss:0.64775\n",
      "[233]\tvalidation_0-logloss:0.64771\n",
      "[234]\tvalidation_0-logloss:0.64766\n",
      "[235]\tvalidation_0-logloss:0.64755\n",
      "[236]\tvalidation_0-logloss:0.64744\n",
      "[237]\tvalidation_0-logloss:0.64732\n",
      "[238]\tvalidation_0-logloss:0.64735\n",
      "[239]\tvalidation_0-logloss:0.64730\n",
      "[240]\tvalidation_0-logloss:0.64717\n",
      "[241]\tvalidation_0-logloss:0.64722\n",
      "[242]\tvalidation_0-logloss:0.64721\n",
      "[243]\tvalidation_0-logloss:0.64700\n",
      "[244]\tvalidation_0-logloss:0.64703\n",
      "[245]\tvalidation_0-logloss:0.64688\n",
      "[246]\tvalidation_0-logloss:0.64686\n",
      "[247]\tvalidation_0-logloss:0.64679\n",
      "[248]\tvalidation_0-logloss:0.64673\n",
      "[249]\tvalidation_0-logloss:0.64663\n",
      "[250]\tvalidation_0-logloss:0.64643\n",
      "[251]\tvalidation_0-logloss:0.64639\n",
      "[252]\tvalidation_0-logloss:0.64637\n",
      "[253]\tvalidation_0-logloss:0.64620\n",
      "[254]\tvalidation_0-logloss:0.64619\n",
      "[255]\tvalidation_0-logloss:0.64600\n",
      "[256]\tvalidation_0-logloss:0.64604\n",
      "[257]\tvalidation_0-logloss:0.64587\n",
      "[258]\tvalidation_0-logloss:0.64595\n",
      "[259]\tvalidation_0-logloss:0.64576\n",
      "[260]\tvalidation_0-logloss:0.64559\n",
      "[261]\tvalidation_0-logloss:0.64563\n",
      "[262]\tvalidation_0-logloss:0.64558\n",
      "[263]\tvalidation_0-logloss:0.64557\n",
      "[264]\tvalidation_0-logloss:0.64539\n",
      "[265]\tvalidation_0-logloss:0.64535\n",
      "[266]\tvalidation_0-logloss:0.64534\n",
      "[267]\tvalidation_0-logloss:0.64517\n",
      "[268]\tvalidation_0-logloss:0.64522\n",
      "[269]\tvalidation_0-logloss:0.64504\n",
      "[270]\tvalidation_0-logloss:0.64510\n",
      "[271]\tvalidation_0-logloss:0.64505\n",
      "[272]\tvalidation_0-logloss:0.64502\n",
      "[273]\tvalidation_0-logloss:0.64490\n",
      "[274]\tvalidation_0-logloss:0.64490\n",
      "[275]\tvalidation_0-logloss:0.64478\n",
      "[276]\tvalidation_0-logloss:0.64477\n",
      "[277]\tvalidation_0-logloss:0.64459\n",
      "[278]\tvalidation_0-logloss:0.64457\n",
      "[279]\tvalidation_0-logloss:0.64462\n",
      "[280]\tvalidation_0-logloss:0.64458\n",
      "[281]\tvalidation_0-logloss:0.64454\n",
      "[282]\tvalidation_0-logloss:0.64438\n",
      "[283]\tvalidation_0-logloss:0.64436\n",
      "[284]\tvalidation_0-logloss:0.64432\n",
      "[285]\tvalidation_0-logloss:0.64426\n",
      "[286]\tvalidation_0-logloss:0.64425\n",
      "[287]\tvalidation_0-logloss:0.64419\n",
      "[288]\tvalidation_0-logloss:0.64411\n",
      "[289]\tvalidation_0-logloss:0.64410\n",
      "[290]\tvalidation_0-logloss:0.64402\n",
      "[291]\tvalidation_0-logloss:0.64398\n",
      "[292]\tvalidation_0-logloss:0.64394\n",
      "[293]\tvalidation_0-logloss:0.64388\n",
      "[294]\tvalidation_0-logloss:0.64373\n",
      "[295]\tvalidation_0-logloss:0.64374\n",
      "[296]\tvalidation_0-logloss:0.64368\n",
      "[297]\tvalidation_0-logloss:0.64364\n",
      "[298]\tvalidation_0-logloss:0.64354\n",
      "[299]\tvalidation_0-logloss:0.64336\n",
      "[300]\tvalidation_0-logloss:0.64325\n",
      "[301]\tvalidation_0-logloss:0.64311\n",
      "[302]\tvalidation_0-logloss:0.64308\n",
      "[303]\tvalidation_0-logloss:0.64295\n",
      "[304]\tvalidation_0-logloss:0.64292\n",
      "[305]\tvalidation_0-logloss:0.64286\n",
      "[306]\tvalidation_0-logloss:0.64269\n",
      "[307]\tvalidation_0-logloss:0.64272\n",
      "[308]\tvalidation_0-logloss:0.64262\n",
      "[309]\tvalidation_0-logloss:0.64258\n",
      "[310]\tvalidation_0-logloss:0.64252\n",
      "[311]\tvalidation_0-logloss:0.64248\n",
      "[312]\tvalidation_0-logloss:0.64245\n",
      "[313]\tvalidation_0-logloss:0.64234\n",
      "[314]\tvalidation_0-logloss:0.64231\n",
      "[315]\tvalidation_0-logloss:0.64228\n",
      "[316]\tvalidation_0-logloss:0.64212\n",
      "[317]\tvalidation_0-logloss:0.64206\n",
      "[318]\tvalidation_0-logloss:0.64203\n",
      "[319]\tvalidation_0-logloss:0.64200\n",
      "[320]\tvalidation_0-logloss:0.64195\n",
      "[321]\tvalidation_0-logloss:0.64194\n",
      "[322]\tvalidation_0-logloss:0.64185\n",
      "[323]\tvalidation_0-logloss:0.64181\n",
      "[324]\tvalidation_0-logloss:0.64176\n",
      "[325]\tvalidation_0-logloss:0.64169\n",
      "[326]\tvalidation_0-logloss:0.64167\n",
      "[327]\tvalidation_0-logloss:0.64173\n",
      "[328]\tvalidation_0-logloss:0.64168\n",
      "[329]\tvalidation_0-logloss:0.64166\n",
      "[330]\tvalidation_0-logloss:0.64163\n",
      "[331]\tvalidation_0-logloss:0.64159\n",
      "[332]\tvalidation_0-logloss:0.64158\n",
      "[333]\tvalidation_0-logloss:0.64142\n",
      "[334]\tvalidation_0-logloss:0.64138\n",
      "[335]\tvalidation_0-logloss:0.64136\n",
      "[336]\tvalidation_0-logloss:0.64136\n",
      "[337]\tvalidation_0-logloss:0.64132\n",
      "[338]\tvalidation_0-logloss:0.64126\n",
      "[339]\tvalidation_0-logloss:0.64123\n",
      "[340]\tvalidation_0-logloss:0.64115\n",
      "[341]\tvalidation_0-logloss:0.64113\n",
      "[342]\tvalidation_0-logloss:0.64109\n",
      "[343]\tvalidation_0-logloss:0.64110\n",
      "[344]\tvalidation_0-logloss:0.64108\n",
      "[345]\tvalidation_0-logloss:0.64103\n",
      "[346]\tvalidation_0-logloss:0.64102\n",
      "[347]\tvalidation_0-logloss:0.64103\n",
      "[348]\tvalidation_0-logloss:0.64102\n",
      "[349]\tvalidation_0-logloss:0.64100\n",
      "[350]\tvalidation_0-logloss:0.64092\n",
      "[351]\tvalidation_0-logloss:0.64082\n",
      "[352]\tvalidation_0-logloss:0.64083\n",
      "[353]\tvalidation_0-logloss:0.64082\n",
      "[354]\tvalidation_0-logloss:0.64081\n",
      "[355]\tvalidation_0-logloss:0.64061\n",
      "[356]\tvalidation_0-logloss:0.64048\n",
      "[357]\tvalidation_0-logloss:0.64042\n",
      "[358]\tvalidation_0-logloss:0.64033\n",
      "[359]\tvalidation_0-logloss:0.64020\n",
      "[360]\tvalidation_0-logloss:0.64010\n",
      "[361]\tvalidation_0-logloss:0.63997\n",
      "[362]\tvalidation_0-logloss:0.63993\n",
      "[363]\tvalidation_0-logloss:0.63984\n",
      "[364]\tvalidation_0-logloss:0.63969\n",
      "[365]\tvalidation_0-logloss:0.63964\n",
      "[366]\tvalidation_0-logloss:0.63962\n",
      "[367]\tvalidation_0-logloss:0.63961\n",
      "[368]\tvalidation_0-logloss:0.63955\n",
      "[369]\tvalidation_0-logloss:0.63944\n",
      "[370]\tvalidation_0-logloss:0.63922\n",
      "[371]\tvalidation_0-logloss:0.63914\n",
      "[372]\tvalidation_0-logloss:0.63908\n",
      "[373]\tvalidation_0-logloss:0.63897\n",
      "[374]\tvalidation_0-logloss:0.63893\n",
      "[375]\tvalidation_0-logloss:0.63895\n",
      "[376]\tvalidation_0-logloss:0.63887\n",
      "[377]\tvalidation_0-logloss:0.63875\n",
      "[378]\tvalidation_0-logloss:0.63865\n",
      "[379]\tvalidation_0-logloss:0.63856\n",
      "[380]\tvalidation_0-logloss:0.63848\n",
      "[381]\tvalidation_0-logloss:0.63850\n",
      "[382]\tvalidation_0-logloss:0.63840\n",
      "[383]\tvalidation_0-logloss:0.63837\n",
      "[384]\tvalidation_0-logloss:0.63828\n",
      "[385]\tvalidation_0-logloss:0.63827\n",
      "[386]\tvalidation_0-logloss:0.63823\n",
      "[387]\tvalidation_0-logloss:0.63814\n",
      "[388]\tvalidation_0-logloss:0.63805\n",
      "[389]\tvalidation_0-logloss:0.63796\n",
      "[390]\tvalidation_0-logloss:0.63793\n",
      "[391]\tvalidation_0-logloss:0.63785\n",
      "[392]\tvalidation_0-logloss:0.63784\n",
      "[393]\tvalidation_0-logloss:0.63776\n",
      "[394]\tvalidation_0-logloss:0.63768\n",
      "[395]\tvalidation_0-logloss:0.63760\n",
      "[396]\tvalidation_0-logloss:0.63752\n",
      "[397]\tvalidation_0-logloss:0.63746\n",
      "[398]\tvalidation_0-logloss:0.63738\n",
      "[399]\tvalidation_0-logloss:0.63735\n",
      "[400]\tvalidation_0-logloss:0.63727\n",
      "[401]\tvalidation_0-logloss:0.63727\n",
      "[402]\tvalidation_0-logloss:0.63729\n",
      "[403]\tvalidation_0-logloss:0.63722\n",
      "[404]\tvalidation_0-logloss:0.63717\n",
      "[405]\tvalidation_0-logloss:0.63689\n",
      "[406]\tvalidation_0-logloss:0.63685\n",
      "[407]\tvalidation_0-logloss:0.63682\n",
      "[408]\tvalidation_0-logloss:0.63672\n",
      "[409]\tvalidation_0-logloss:0.63664\n",
      "[410]\tvalidation_0-logloss:0.63655\n",
      "[411]\tvalidation_0-logloss:0.63648\n",
      "[412]\tvalidation_0-logloss:0.63641\n",
      "[413]\tvalidation_0-logloss:0.63629\n",
      "[414]\tvalidation_0-logloss:0.63624\n",
      "[415]\tvalidation_0-logloss:0.63620\n",
      "[416]\tvalidation_0-logloss:0.63611\n",
      "[417]\tvalidation_0-logloss:0.63603\n",
      "[418]\tvalidation_0-logloss:0.63607\n",
      "[419]\tvalidation_0-logloss:0.63599\n",
      "[420]\tvalidation_0-logloss:0.63596\n",
      "[421]\tvalidation_0-logloss:0.63587\n",
      "[422]\tvalidation_0-logloss:0.63584\n",
      "[423]\tvalidation_0-logloss:0.63576\n",
      "[424]\tvalidation_0-logloss:0.63569\n",
      "[425]\tvalidation_0-logloss:0.63553\n",
      "[426]\tvalidation_0-logloss:0.63542\n",
      "[427]\tvalidation_0-logloss:0.63543\n",
      "[428]\tvalidation_0-logloss:0.63532\n",
      "[429]\tvalidation_0-logloss:0.63527\n",
      "[430]\tvalidation_0-logloss:0.63520\n",
      "[431]\tvalidation_0-logloss:0.63507\n",
      "[432]\tvalidation_0-logloss:0.63493\n",
      "[433]\tvalidation_0-logloss:0.63495\n",
      "[434]\tvalidation_0-logloss:0.63484\n",
      "[435]\tvalidation_0-logloss:0.63473\n",
      "[436]\tvalidation_0-logloss:0.63466\n",
      "[437]\tvalidation_0-logloss:0.63459\n",
      "[438]\tvalidation_0-logloss:0.63451\n",
      "[439]\tvalidation_0-logloss:0.63443\n",
      "[440]\tvalidation_0-logloss:0.63438\n",
      "[441]\tvalidation_0-logloss:0.63429\n",
      "[442]\tvalidation_0-logloss:0.63419\n",
      "[443]\tvalidation_0-logloss:0.63410\n",
      "[444]\tvalidation_0-logloss:0.63398\n",
      "[445]\tvalidation_0-logloss:0.63393\n",
      "[446]\tvalidation_0-logloss:0.63374\n",
      "[447]\tvalidation_0-logloss:0.63364\n",
      "[448]\tvalidation_0-logloss:0.63357\n",
      "[449]\tvalidation_0-logloss:0.63348\n",
      "[450]\tvalidation_0-logloss:0.63352\n",
      "[451]\tvalidation_0-logloss:0.63342\n",
      "[452]\tvalidation_0-logloss:0.63341\n",
      "[453]\tvalidation_0-logloss:0.63331\n",
      "[454]\tvalidation_0-logloss:0.63315\n",
      "[455]\tvalidation_0-logloss:0.63308\n",
      "[456]\tvalidation_0-logloss:0.63286\n",
      "[457]\tvalidation_0-logloss:0.63277\n",
      "[458]\tvalidation_0-logloss:0.63270\n",
      "[459]\tvalidation_0-logloss:0.63259\n",
      "[460]\tvalidation_0-logloss:0.63256\n",
      "[461]\tvalidation_0-logloss:0.63234\n",
      "[462]\tvalidation_0-logloss:0.63235\n",
      "[463]\tvalidation_0-logloss:0.63234\n",
      "[464]\tvalidation_0-logloss:0.63240\n",
      "[465]\tvalidation_0-logloss:0.63231\n",
      "[466]\tvalidation_0-logloss:0.63226\n",
      "[467]\tvalidation_0-logloss:0.63228\n",
      "[468]\tvalidation_0-logloss:0.63222\n",
      "[469]\tvalidation_0-logloss:0.63223\n",
      "[470]\tvalidation_0-logloss:0.63203\n",
      "[471]\tvalidation_0-logloss:0.63197\n",
      "[472]\tvalidation_0-logloss:0.63190\n",
      "[473]\tvalidation_0-logloss:0.63189\n",
      "[474]\tvalidation_0-logloss:0.63183\n",
      "[475]\tvalidation_0-logloss:0.63185\n",
      "[476]\tvalidation_0-logloss:0.63178\n",
      "[477]\tvalidation_0-logloss:0.63167\n",
      "[478]\tvalidation_0-logloss:0.63162\n",
      "[479]\tvalidation_0-logloss:0.63162\n",
      "[480]\tvalidation_0-logloss:0.63169\n",
      "[481]\tvalidation_0-logloss:0.63162\n",
      "[482]\tvalidation_0-logloss:0.63153\n",
      "[483]\tvalidation_0-logloss:0.63140\n",
      "[484]\tvalidation_0-logloss:0.63132\n",
      "[485]\tvalidation_0-logloss:0.63122\n",
      "[486]\tvalidation_0-logloss:0.63124\n",
      "[487]\tvalidation_0-logloss:0.63105\n",
      "[488]\tvalidation_0-logloss:0.63100\n",
      "[489]\tvalidation_0-logloss:0.63095\n",
      "[490]\tvalidation_0-logloss:0.63088\n",
      "[491]\tvalidation_0-logloss:0.63081\n",
      "[492]\tvalidation_0-logloss:0.63072\n",
      "[493]\tvalidation_0-logloss:0.63075\n",
      "[494]\tvalidation_0-logloss:0.63066\n",
      "[495]\tvalidation_0-logloss:0.63061\n",
      "[496]\tvalidation_0-logloss:0.63057\n",
      "[497]\tvalidation_0-logloss:0.63064\n",
      "[498]\tvalidation_0-logloss:0.63056\n",
      "[499]\tvalidation_0-logloss:0.63057\n",
      "[500]\tvalidation_0-logloss:0.63054\n",
      "[501]\tvalidation_0-logloss:0.63045\n",
      "[502]\tvalidation_0-logloss:0.63048\n",
      "[503]\tvalidation_0-logloss:0.63039\n",
      "[504]\tvalidation_0-logloss:0.63020\n",
      "[505]\tvalidation_0-logloss:0.63012\n",
      "[506]\tvalidation_0-logloss:0.63014\n",
      "[507]\tvalidation_0-logloss:0.62993\n",
      "[508]\tvalidation_0-logloss:0.62986\n",
      "[509]\tvalidation_0-logloss:0.62981\n",
      "[510]\tvalidation_0-logloss:0.62974\n",
      "[511]\tvalidation_0-logloss:0.62981\n",
      "[512]\tvalidation_0-logloss:0.62973\n",
      "[513]\tvalidation_0-logloss:0.62967\n",
      "[514]\tvalidation_0-logloss:0.62954\n",
      "[515]\tvalidation_0-logloss:0.62949\n",
      "[516]\tvalidation_0-logloss:0.62931\n",
      "[517]\tvalidation_0-logloss:0.62933\n",
      "[518]\tvalidation_0-logloss:0.62931\n",
      "[519]\tvalidation_0-logloss:0.62919\n",
      "[520]\tvalidation_0-logloss:0.62913\n",
      "[521]\tvalidation_0-logloss:0.62915\n",
      "[522]\tvalidation_0-logloss:0.62909\n",
      "[523]\tvalidation_0-logloss:0.62901\n",
      "[524]\tvalidation_0-logloss:0.62905\n",
      "[525]\tvalidation_0-logloss:0.62887\n",
      "[526]\tvalidation_0-logloss:0.62887\n",
      "[527]\tvalidation_0-logloss:0.62881\n",
      "[528]\tvalidation_0-logloss:0.62881\n",
      "[529]\tvalidation_0-logloss:0.62873\n",
      "[530]\tvalidation_0-logloss:0.62861\n",
      "[531]\tvalidation_0-logloss:0.62855\n",
      "[532]\tvalidation_0-logloss:0.62858\n",
      "[533]\tvalidation_0-logloss:0.62850\n",
      "[534]\tvalidation_0-logloss:0.62833\n",
      "[535]\tvalidation_0-logloss:0.62825\n",
      "[536]\tvalidation_0-logloss:0.62817\n",
      "[537]\tvalidation_0-logloss:0.62813\n",
      "[538]\tvalidation_0-logloss:0.62807\n",
      "[539]\tvalidation_0-logloss:0.62809\n",
      "[540]\tvalidation_0-logloss:0.62819\n",
      "[541]\tvalidation_0-logloss:0.62808\n",
      "[542]\tvalidation_0-logloss:0.62806\n",
      "[543]\tvalidation_0-logloss:0.62800\n",
      "[544]\tvalidation_0-logloss:0.62793\n",
      "[545]\tvalidation_0-logloss:0.62782\n",
      "[546]\tvalidation_0-logloss:0.62782\n",
      "[547]\tvalidation_0-logloss:0.62792\n",
      "[548]\tvalidation_0-logloss:0.62776\n",
      "[549]\tvalidation_0-logloss:0.62771\n",
      "[550]\tvalidation_0-logloss:0.62760\n",
      "[551]\tvalidation_0-logloss:0.62754\n",
      "[552]\tvalidation_0-logloss:0.62754\n",
      "[553]\tvalidation_0-logloss:0.62768\n",
      "[554]\tvalidation_0-logloss:0.62763\n",
      "[555]\tvalidation_0-logloss:0.62756\n",
      "[556]\tvalidation_0-logloss:0.62760\n",
      "[557]\tvalidation_0-logloss:0.62771\n",
      "[558]\tvalidation_0-logloss:0.62768\n",
      "[559]\tvalidation_0-logloss:0.62752\n",
      "[560]\tvalidation_0-logloss:0.62747\n",
      "[561]\tvalidation_0-logloss:0.62740\n",
      "[562]\tvalidation_0-logloss:0.62739\n",
      "[563]\tvalidation_0-logloss:0.62727\n",
      "[564]\tvalidation_0-logloss:0.62724\n",
      "[565]\tvalidation_0-logloss:0.62715\n",
      "[566]\tvalidation_0-logloss:0.62711\n",
      "[567]\tvalidation_0-logloss:0.62713\n",
      "[568]\tvalidation_0-logloss:0.62709\n",
      "[569]\tvalidation_0-logloss:0.62703\n",
      "[570]\tvalidation_0-logloss:0.62702\n",
      "[571]\tvalidation_0-logloss:0.62698\n",
      "[572]\tvalidation_0-logloss:0.62702\n",
      "[573]\tvalidation_0-logloss:0.62704\n",
      "[574]\tvalidation_0-logloss:0.62700\n",
      "[575]\tvalidation_0-logloss:0.62702\n",
      "[576]\tvalidation_0-logloss:0.62698\n",
      "[577]\tvalidation_0-logloss:0.62689\n",
      "[578]\tvalidation_0-logloss:0.62681\n",
      "[579]\tvalidation_0-logloss:0.62675\n",
      "[580]\tvalidation_0-logloss:0.62671\n",
      "[581]\tvalidation_0-logloss:0.62674\n",
      "[582]\tvalidation_0-logloss:0.62663\n",
      "[583]\tvalidation_0-logloss:0.62666\n",
      "[584]\tvalidation_0-logloss:0.62658\n",
      "[585]\tvalidation_0-logloss:0.62652\n",
      "[586]\tvalidation_0-logloss:0.62645\n",
      "[587]\tvalidation_0-logloss:0.62644\n",
      "[588]\tvalidation_0-logloss:0.62642\n",
      "[589]\tvalidation_0-logloss:0.62631\n",
      "[590]\tvalidation_0-logloss:0.62640\n",
      "[591]\tvalidation_0-logloss:0.62632\n",
      "[592]\tvalidation_0-logloss:0.62623\n",
      "[593]\tvalidation_0-logloss:0.62612\n",
      "[594]\tvalidation_0-logloss:0.62607\n",
      "[595]\tvalidation_0-logloss:0.62602\n",
      "[596]\tvalidation_0-logloss:0.62598\n",
      "[597]\tvalidation_0-logloss:0.62597\n",
      "[598]\tvalidation_0-logloss:0.62608\n",
      "[599]\tvalidation_0-logloss:0.62605\n",
      "[600]\tvalidation_0-logloss:0.62607\n",
      "[601]\tvalidation_0-logloss:0.62596\n",
      "[602]\tvalidation_0-logloss:0.62607\n",
      "[603]\tvalidation_0-logloss:0.62608\n",
      "[604]\tvalidation_0-logloss:0.62610\n",
      "[605]\tvalidation_0-logloss:0.62621\n",
      "[606]\tvalidation_0-logloss:0.62605\n",
      "[607]\tvalidation_0-logloss:0.62608\n",
      "[608]\tvalidation_0-logloss:0.62601\n",
      "[609]\tvalidation_0-logloss:0.62612\n",
      "[610]\tvalidation_0-logloss:0.62615\n",
      "[611]\tvalidation_0-logloss:0.62605\n",
      "Accuracy: 0.6089676746611054\n",
      "\n",
      "Classification Report:\n",
      "               precision    recall  f1-score   support\n",
      "\n",
      "           0       0.87      0.63      0.73       807\n",
      "           1       0.21      0.51      0.29       152\n",
      "\n",
      "    accuracy                           0.61       959\n",
      "   macro avg       0.54      0.57      0.51       959\n",
      "weighted avg       0.77      0.61      0.66       959\n",
      "\n"
     ]
    }
   ],
   "execution_count": 53
  },
  {
   "metadata": {},
   "cell_type": "code",
   "outputs": [],
   "execution_count": null,
   "source": "",
   "id": "b5f482225b6e8807"
  }
 ],
 "metadata": {
  "kernelspec": {
   "display_name": "Python 3",
   "language": "python",
   "name": "python3"
  },
  "language_info": {
   "codemirror_mode": {
    "name": "ipython",
    "version": 2
   },
   "file_extension": ".py",
   "mimetype": "text/x-python",
   "name": "python",
   "nbconvert_exporter": "python",
   "pygments_lexer": "ipython2",
   "version": "2.7.6"
  }
 },
 "nbformat": 4,
 "nbformat_minor": 5
}
